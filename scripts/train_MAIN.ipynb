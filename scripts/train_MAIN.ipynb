{
  "nbformat": 4,
  "nbformat_minor": 0,
  "metadata": {
    "kernelspec": {
      "display_name": "Python 3",
      "name": "python3",
      "language": "python"
    },
    "language_info": {
      "mimetype": "text/x-python",
      "nbconvert_exporter": "python",
      "name": "python",
      "file_extension": ".py",
      "version": "3.6.1",
      "pygments_lexer": "ipython3",
      "codemirror_mode": {
        "version": 3,
        "name": "ipython"
      }
    },
    "anaconda-cloud": {},
    "colab": {
      "name": "Copy of train_MAIN.ipynb",
      "provenance": [],
      "collapsed_sections": [],
      "machine_shape": "hm"
    },
    "accelerator": "GPU"
  },
  "cells": [
    {
      "cell_type": "code",
      "metadata": {
        "id": "j79-wMtFz7BX",
        "colab_type": "code",
        "colab": {
          "base_uri": "https://localhost:8080/",
          "height": 121
        },
        "outputId": "b8854c0d-551c-41a5-956d-f74b65448d9c"
      },
      "source": [
        "from google.colab import drive\n",
        "drive.mount('/content/gdrive')"
      ],
      "execution_count": null,
      "outputs": [
        {
          "output_type": "stream",
          "text": [
            "Go to this URL in a browser: https://accounts.google.com/o/oauth2/auth?client_id=947318989803-6bn6qk8qdgf4n4g3pfee6491hc0brc4i.apps.googleusercontent.com&redirect_uri=urn%3aietf%3awg%3aoauth%3a2.0%3aoob&response_type=code&scope=email%20https%3a%2f%2fwww.googleapis.com%2fauth%2fdocs.test%20https%3a%2f%2fwww.googleapis.com%2fauth%2fdrive%20https%3a%2f%2fwww.googleapis.com%2fauth%2fdrive.photos.readonly%20https%3a%2f%2fwww.googleapis.com%2fauth%2fpeopleapi.readonly\n",
            "\n",
            "Enter your authorization code:\n",
            "··········\n",
            "Mounted at /content/gdrive\n"
          ],
          "name": "stdout"
        }
      ]
    },
    {
      "cell_type": "code",
      "metadata": {
        "id": "pN8xQbdW1WO1",
        "colab_type": "code",
        "colab": {}
      },
      "source": [
        "import os\n",
        "os.getcwd()\n",
        "os.chdir('gdrive')\n",
        "os.chdir('My Drive')\n",
        "os.chdir('DeepResection')\n",
        "\n",
        "!ls"
      ],
      "execution_count": null,
      "outputs": []
    },
    {
      "cell_type": "code",
      "metadata": {
        "id": "e2i0fqmSyfyu",
        "colab_type": "code",
        "colab": {}
      },
      "source": [
        "! pip install git+https://github.com/qubvel/segmentation_models"
      ],
      "execution_count": null,
      "outputs": []
    },
    {
      "cell_type": "markdown",
      "metadata": {
        "id": "wHmZ-yi7kKT_",
        "colab_type": "text"
      },
      "source": [
        "After navigating to the right directory, implement the data preprocessing/generating code"
      ]
    },
    {
      "cell_type": "code",
      "metadata": {
        "id": "5yj5aYJFjMuM",
        "colab_type": "code",
        "colab": {}
      },
      "source": [
        "import numpy as np\n",
        "import glob\n",
        "import os\n",
        "import keras\n",
        "from PIL import Image\n",
        "import shutil\n",
        "\n",
        "def getListOfImagePaths(dirPath):\n",
        "    imagePaths = glob.glob('data/png/*/img/*')\n",
        "    ret = [os.path.join(dirPath, os.path.normpath(path)) for path in imagePaths]\n",
        "    return ret\n",
        "\n",
        "def getListOfMaskPaths(imagePaths):\n",
        "    ret = [p.replace('img/', 'mask/') for p in imagePaths]\n",
        "    return ret\n",
        "\n",
        "def adjust_sizes(img_arr, dim = (256, 256)):\n",
        "    if(img_arr.shape[0] < dim[0]):\n",
        "        toBeAdded = dim[0] - img_arr.shape[0]\n",
        "        toBeAdded1 = int(np.ceil(toBeAdded/2))\n",
        "        toBeAdded2 = int(np.floor(toBeAdded/2))\n",
        "        img_arr = np.pad(img_arr, ((toBeAdded1, toBeAdded2), (0, 0)))\n",
        "    elif(img_arr.shape[0] > dim[0]):\n",
        "        toBeRemoved = img_arr.shape[0]-dim[0]\n",
        "        toBeRemoved1 = int(np.ceil(toBeRemoved/2))\n",
        "        toBeRemoved2 = int(np.floor(toBeRemoved/2))\n",
        "        index1 = toBeRemoved1\n",
        "        index2 = img_arr.shape[0]-toBeRemoved2\n",
        "        img_arr = img_arr[index1:index2,:]\n",
        "    if(img_arr.shape[1] < dim[1]):\n",
        "        toBeAdded = dim[1] - img_arr.shape[1]\n",
        "        toBeAdded1 = int(np.ceil(toBeAdded/2))\n",
        "        toBeAdded2 = int(np.floor(toBeAdded/2))\n",
        "        img_arr = np.pad(img_arr, ((0, 0), (toBeAdded1, toBeAdded2)))\n",
        "    elif(img_arr.shape[1] > dim[1]):\n",
        "        toBeRemoved = img_arr.shape[1]-dim[1]\n",
        "        toBeRemoved1 = int(np.ceil(toBeRemoved/2))\n",
        "        toBeRemoved2 = int(np.floor(toBeRemoved/2))\n",
        "        index1 = toBeRemoved1\n",
        "        index2 = img_arr.shape[1]-toBeRemoved2\n",
        "        img_arr = img_arr[:,index1:index2]\n",
        "    return img_arr\n",
        "\n",
        "# dim is a tuple: (256, 256)\n",
        "def getImagesForClassification(imagePaths, dim=(256, 256)):\n",
        "    ret = np.empty((len(imagePaths), dim[0], dim[1], 3))\n",
        "    index = 0\n",
        "    for path in imagePaths:\n",
        "        img = Image.open(path)\n",
        "        img_arr = np.asarray(img)\n",
        "        img_arr = adjust_sizes(img_arr, dim)\n",
        "        #add image to returned array\n",
        "        ret[index,:,:,0] = img_arr\n",
        "        ret[index,:,:,1] = img_arr\n",
        "        ret[index,:,:,2] = img_arr\n",
        "        index=index+1\n",
        "    return ret\n",
        "\n",
        "# returns numpy vector where each entry is 0 or 1 based on whether the image contains resected tissue\n",
        "def getClassificationY(maskPaths, dim=(256, 256)):\n",
        "    num_masks = len(maskPaths)\n",
        "    Y = np.zeros(num_masks)\n",
        "    index = 0\n",
        "    for path in maskPaths:\n",
        "        img = Image.open(path)\n",
        "        img_arr = np.asarray(img)\n",
        "        #pad image\n",
        "        img_arr = adjust_sizes(img_arr, dim)\n",
        "        Y[index] = 1 if np.any(img_arr) else 0\n",
        "        index=index+1\n",
        "    return Y\n",
        "\n",
        "# dim is a tuple: (256, 256)\n",
        "def getImagesForSegmentation(imagePaths, dim=(256,256)):\n",
        "    ret = np.empty((len(imagePaths), dim[0], dim[1]))\n",
        "    index = 0\n",
        "    for path in imagePaths:\n",
        "        img = Image.open(path)\n",
        "        img_arr = np.asarray(img)\n",
        "        #pad image\n",
        "        img_arr = adjust_sizes(img_arr, dim)\n",
        "        #add image to returned array\n",
        "        ret[index,:,:] = img_arr\n",
        "        index=index+1\n",
        "    return ret\n",
        "\n",
        "\n",
        "#dirPath = os.getcwd()\n",
        "#imagePaths = getListOfImagePaths(dirPath)\n",
        "#maskPaths = getListOfMaskPaths(imagePaths)\n",
        "\n",
        "# define the training, validation, and test patients\n",
        "#imagePaths_valid = []\n",
        "#for path in imagePaths:\n",
        "#    if '14_w' in path or '23_r' in path or '27_m' in path or 'pat05' in path or 'pat11' in path or 'pat15' in path or 'pat20' in path or 'HUP041' in path or 'HUP045' in path or 'HUP049' in path or 'HUP052' in path or 'HUP054' in path or 'HUP056' in path:\n",
        "#        imagePaths_valid.append(path)\n",
        "#maskPaths_valid = getListOfMaskPaths(imagePaths_valid)\n",
        "#imagePaths_test = []\n",
        "#for path in imagePaths:\n",
        "#    if '24_c' in path or '40_f' in path or '42_m' in path or 'pat03' in path or 'pat06' in path or 'pat25' in path or 'pat30' in path or 'HUP057' in path or 'HUP058' in path or 'HUP060' in path or 'HUP064' in path or 'HUP065' in path:\n",
        "#        imagePaths_test.append(path)\n",
        "#maskPaths_test = getListOfMaskPaths(imagePaths_test)\n",
        "#imagePaths_train = []\n",
        "#for path in imagePaths:\n",
        "#    if path not in imagePaths_valid and path not in imagePaths_test:\n",
        "#        imagePaths_train.append(path)\n",
        "#maskPaths_train = getListOfMaskPaths(imagePaths_train)\n",
        "\n",
        "#for path in imagePaths_train:\n",
        "#    pat_id = (path.split('png/')[1]).split('/img')[0]\n",
        "#    new_name = os.path.basename(path)\n",
        "#    new_name = new_name.replace('img_', \"%s_img_\" % pat_id)\n",
        "#    new_file = \"train/images/all_images/%s\" % new_name\n",
        "#    if(not os.path.exists(new_file)):\n",
        "#        shutil.copyfile(path, new_file)\n",
        "\n",
        "#for path in maskPaths_train:\n",
        "#    if('(1)' not in path):\n",
        "#      pat_id = (path.split('png/')[1]).split('/mask')[0]\n",
        "#      new_name = os.path.basename(path)\n",
        "#      new_name = new_name.replace('img_', \"%s_img_\" % pat_id)\n",
        "#      new_file = \"train/masks/all_images/%s\" % new_name\n",
        "#      if(not os.path.exists(new_file)):\n",
        "#          shutil.copyfile(path, new_file)\n",
        "\n",
        "#for path in imagePaths_valid:\n",
        "#    if('(1)' not in path):\n",
        "#      pat_id = (path.split('png/')[1]).split('/img')[0]\n",
        "#      new_name = os.path.basename(path)\n",
        "#      new_name = new_name.replace('img_', \"%s_img_\" % pat_id)\n",
        "#      new_file = \"validation/images/all_images/%s\" % new_name\n",
        "#      if(not os.path.exists(new_file)):\n",
        "#          shutil.copyfile(path, new_file)\n",
        "\n",
        "#for path in maskPaths_valid:\n",
        "#    if('(1)' not in path):\n",
        "#      pat_id = (path.split('png/')[1]).split('/mask')[0]\n",
        "#      new_name = os.path.basename(path)\n",
        "#      new_name = new_name.replace('img_', \"%s_img_\" % pat_id)\n",
        "#      new_file = \"validation/masks/all_images/%s\" % new_name\n",
        "#      if(not os.path.exists(new_file)):\n",
        "#          shutil.copyfile(path, new_file)\n",
        "\n",
        "#for path in imagePaths_test:\n",
        "#    if('(1)' not in path):\n",
        "#        pat_id = (path.split('png/')[1]).split('/img')[0]\n",
        "#        new_name = os.path.basename(path)\n",
        "#        new_name = new_name.replace('img_', \"%s_img_\" % pat_id)\n",
        "#        new_file = \"test/images/all_images/%s\" % new_name\n",
        "#        if(not os.path.exists(new_file)):\n",
        "#            shutil.copyfile(path, new_file)\n",
        "\n",
        "#for path in maskPaths_test:\n",
        "#    if('(1)' not in path):\n",
        "#      pat_id = (path.split('png/')[1]).split('/mask')[0]\n",
        "#      new_name = os.path.basename(path)\n",
        "#      new_name = new_name.replace('img_', \"%s_img_\" % pat_id)\n",
        "#      new_file = \"test/masks/all_images/%s\" % new_name\n",
        "#      if(not os.path.exists(new_file)):\n",
        "#          shutil.copyfile(path, new_file)\n"
      ],
      "execution_count": null,
      "outputs": []
    },
    {
      "cell_type": "markdown",
      "metadata": {
        "id": "yapbA3yJgMNm",
        "colab_type": "text"
      },
      "source": [
        "Load the virtual lesion data"
      ]
    },
    {
      "cell_type": "code",
      "metadata": {
        "id": "a4UIkjPOgLrj",
        "colab_type": "code",
        "colab": {}
      },
      "source": [
        "import numpy as np\n",
        "import glob\n",
        "import os\n",
        "import keras\n",
        "from PIL import Image\n",
        "import shutil\n",
        "\n",
        "def getListOfImagePaths(dirPath):\n",
        "    imagePaths = glob.glob('png_3dims/*/img/*.png')\n",
        "    ret = [os.path.join(dirPath, os.path.normpath(path)) for path in imagePaths]\n",
        "    return ret\n",
        "\n",
        "def getListOfMaskPaths(imagePaths):\n",
        "    ret = [p.replace('img/', 'mask/') for p in imagePaths]\n",
        "    return ret\n",
        "\n",
        "\n",
        "dirPath = os.getcwd()\n",
        "imagePaths = getListOfImagePaths(dirPath)\n",
        "maskPaths = getListOfMaskPaths(imagePaths)\n",
        "\n",
        "# define the training, validation, and test patients\n",
        "imagePaths_valid = []\n",
        "imagePaths_test = []\n",
        "imagePaths_train = []\n",
        "train_id = []\n",
        "valid_id = []\n",
        "test_id = []\n",
        "for path in imagePaths:\n",
        "    pat_id = (path.split('png_3dims/')[1]).split('/img')[0]\n",
        "    if 'HUP' in pat_id:\n",
        "        pat_id = pat_id.split('_')[0]\n",
        "    else:\n",
        "        pat_id = pat_id.split('_dim')[0]\n",
        "    if pat_id in ('14_w', '23_r', '27_m', 'pat05', 'pat11', 'pat15', 'pat20', 'HUP041', 'HUP045', 'HUP058', 'HUP052', 'HUP054', 'HUP056', 'HUP098', 'HUP148'):\n",
        "        imagePaths_valid.append(path)\n",
        "        if pat_id not in valid_id:\n",
        "            valid_id.append(pat_id)\n",
        "    elif pat_id in ('24_c', '40_f', '42_m', 'pat03', 'pat06', 'pat25', 'pat30', 'HUP057', 'HUP060', 'HUP064', 'HUP065', 'HUP181', 'HUP142'):\n",
        "        imagePaths_test.append(path)\n",
        "        if pat_id not in test_id:\n",
        "            test_id.append(pat_id)\n",
        "    else:\n",
        "        imagePaths_train.append(path)\n",
        "        if pat_id not in train_id:\n",
        "            train_id.append(pat_id)\n",
        "maskPaths_valid = getListOfMaskPaths(imagePaths_valid)\n",
        "maskPaths_test = getListOfMaskPaths(imagePaths_test)\n",
        "maskPaths_train = getListOfMaskPaths(imagePaths_train)\n",
        "\n",
        "#print('1')\n",
        "\n",
        "#for path in imagePaths_train:\n",
        "#    pat_id = (path.split('png_3dims/')[1]).split('/img/')[0]\n",
        "#    new_name = os.path.basename(path)\n",
        "#    new_name = new_name.replace('img_', \"%s_img_\" % pat_id)\n",
        "#    new_file = \"train_3d/images/all_images/%s\" % new_name\n",
        "#    if not os.path.exists(new_file):\n",
        "#        shutil.copy2(path, new_file)\n",
        "\n",
        "print('2')\n",
        "\n",
        "for path in maskPaths_train:\n",
        "    pat_id = (path.split('png_3dims/')[1]).split('/mask/')[0]\n",
        "    new_name = os.path.basename(path)\n",
        "    new_name = new_name.replace('img_', \"%s_img_\" % pat_id)\n",
        "    new_file = \"train_3d/masks/all_images/%s\" % new_name\n",
        "    shutil.copy2(path, new_file)\n",
        "\n",
        "#print('3')\n",
        "\n",
        "#for path in imagePaths_valid:\n",
        "#    pat_id = (path.split('png_3dims/')[1]).split('/img/')[0]\n",
        "#    new_name = os.path.basename(path)\n",
        "#    new_name = new_name.replace('img_', \"%s_img_\" % pat_id)\n",
        "#    new_file = \"validation_3d/images/all_images/%s\" % new_name\n",
        "#    if not os.path.exists(new_file):\n",
        "#        shutil.copy2(path, new_file)\n",
        "\n",
        "#print('4')\n",
        "\n",
        "#for path in maskPaths_valid:\n",
        "#    pat_id = (path.split('png_3dims/')[1]).split('/mask/')[0]\n",
        "#    new_name = os.path.basename(path)\n",
        "#    new_name = new_name.replace('img_', \"%s_img_\" % pat_id)\n",
        "#    new_file = \"validation_3d/masks/all_images/%s\" % new_name\n",
        "#    if not os.path.exists(new_file):\n",
        "#        shutil.move(path, new_file)\n",
        "\n",
        "#print('5')\n",
        "\n",
        "#for path in imagePaths_test:\n",
        "#    pat_id = (path.split('png_3dims/')[1]).split('/img/')[0]\n",
        "#    new_name = os.path.basename(path)\n",
        "#    new_name = new_name.replace('img_', \"%s_img_\" % pat_id)\n",
        "#    new_file = \"test_3d/images/all_images/%s\" % new_name\n",
        "#    if not os.path.exists(new_file):\n",
        "#        shutil.copy2(path, new_file)\n",
        "\n",
        "print('6')\n",
        "\n",
        "#for path in maskPaths_test:\n",
        "#    pat_id = (path.split('png_3dims/')[1]).split('/mask/')[0]\n",
        "#    new_name = os.path.basename(path)\n",
        "#    new_name = new_name.replace('img_', \"%s_img_\" % pat_id)\n",
        "#    new_file = \"test_3d/masks/all_images/%s\" % new_name\n",
        "#    if not os.path.exists(new_file):\n",
        "#        shutil.copy2(path, new_file)"
      ],
      "execution_count": null,
      "outputs": []
    },
    {
      "cell_type": "code",
      "metadata": {
        "id": "p_j2-6Asz2SE",
        "colab_type": "code",
        "colab": {}
      },
      "source": [
        "list_im = os.listdir('test_3d/images/all_images')\n",
        "list_mask = os.listdir('test_3d/masks/all_images')\n",
        "\n",
        "for path in list_im:\n",
        "    if path not in list_mask:\n",
        "        path_new = os.path.join('test_3d/images/all_images/', path)\n",
        "        os.remove(path_new)"
      ],
      "execution_count": null,
      "outputs": []
    },
    {
      "cell_type": "markdown",
      "metadata": {
        "id": "GpwpCK7fDMzQ",
        "colab_type": "text"
      },
      "source": [
        "Save dataset to npy files"
      ]
    },
    {
      "cell_type": "code",
      "metadata": {
        "id": "igJIBkEWDWYy",
        "colab_type": "code",
        "colab": {}
      },
      "source": [
        "#np.save('X_train_class.npy', X_train_class)\n",
        "#np.save('Y_train_class.npy', Y_train_class)\n",
        "#np.save('X_valid_class.npy', X_valid_class)\n",
        "#np.save('Y_valid_class.npy', Y_valid_class)\n",
        "#np.save('X_test_class.npy', X_test_class)\n",
        "#np.save('Y_test_class.npy', Y_test_class)\n",
        "\n",
        "#np.save('X_train_seg.npy', X_train_seg)\n",
        "#np.save('Y_train_seg.npy', Y_train_seg)\n",
        "#np.save('X_valid_seg.npy', X_valid_seg)\n",
        "#np.save('Y_valid_seg.npy', Y_valid_seg)\n",
        "#np.save('X_test_seg.npy', X_test_seg)\n",
        "#np.save('Y_test_seg.npy', Y_test_seg)\n",
        "\n",
        "np.save('X_valid_seg_more.npy', X_valid_seg)\n",
        "np.save('Y_valid_seg_more.npy', Y_valid_seg)\n",
        "#np.save('X_valid_seg.npy', X_valid_seg)\n",
        "#np.save('Y_valid_seg.npy', Y_valid_seg)\n",
        "#np.save('X_test_seg.npy', X_test_seg)\n",
        "#np.save('Y_test_seg.npy', Y_test_seg)"
      ],
      "execution_count": null,
      "outputs": []
    },
    {
      "cell_type": "markdown",
      "metadata": {
        "id": "4YB0EYcihleY",
        "colab_type": "text"
      },
      "source": [
        "Load dataset from npy files"
      ]
    },
    {
      "cell_type": "code",
      "metadata": {
        "id": "194adJzYhimP",
        "colab_type": "code",
        "colab": {}
      },
      "source": [
        "import numpy as np\n",
        "\n",
        "#X_train_seg = np.load('X_train_seg.npy')\n",
        "#Y_train_seg = np.load('Y_train_seg.npy')\n",
        "X_valid_seg = np.load('X_valid_seg_more.npy')\n",
        "Y_valid_seg = np.load('Y_valid_seg_more.npy')\n",
        "X_test_seg = np.load('X_test_seg_more.npy')\n",
        "Y_test_seg = np.load('Y_test_seg_more.npy')\n",
        "\n",
        "#X_train_class = np.load('X_train_class.npy')\n",
        "#Y_train_class = np.load('Y_train_class.npy')\n",
        "#X_valid_class = np.load('X_valid_class.npy')\n",
        "#Y_valid_class = np.load('Y_valid_class.npy')\n",
        "#X_test_class = np.load('X_test_class.npy')\n",
        "#Y_test_class = np.load('Y_test_class.npy')"
      ],
      "execution_count": null,
      "outputs": []
    },
    {
      "cell_type": "markdown",
      "metadata": {
        "id": "EIKl4eZkgs9P",
        "colab_type": "text"
      },
      "source": [
        "Implement data augmentation on the training data, increasing model's generalizability\n",
        "\n"
      ]
    },
    {
      "cell_type": "code",
      "metadata": {
        "id": "W_gOZI8MC9ZC",
        "colab_type": "code",
        "colab": {}
      },
      "source": [
        "from tensorflow.keras.preprocessing.image import random_brightness\n",
        "\n",
        "(num_train_samples, _, _, _) = X_train_seg.shape\n",
        "X_train_seg_b = np.zeros(X_train_seg.shape)\n",
        "\n",
        "for i in range(0, num_train_samples):\n",
        "    img = X_train_seg[i,:,:,:]\n",
        "    img_b = random_brightness(img, brightness_range=(0.7, 1.3))\n",
        "    X_train_seg_b[i,:,:,:] = img_b\n",
        "\n",
        "X_train_seg_b = X_train_seg_b/255"
      ],
      "execution_count": null,
      "outputs": []
    },
    {
      "cell_type": "code",
      "metadata": {
        "id": "ySrBY9kUgqbd",
        "colab_type": "code",
        "colab": {}
      },
      "source": [
        "from keras.preprocessing.image import ImageDataGenerator\n",
        "\n",
        "seed = 909\n",
        "datagen_args = dict(rotation_range = 10, width_shift_range = 0.1, height_shift_range = 0.1, horizontal_flip = True, vertical_flip = True)\n",
        "#mask_args = dict(rotation_range = 10, width_shift_range = 0.1, height_shift_range = 0.1, horizontal_flip = True, vertical_flip = True)\n",
        "image_datagen = ImageDataGenerator(**datagen_args)\n",
        "mask_datagen = ImageDataGenerator(**datagen_args)\n",
        "\n",
        "image_datagen.fit(X_train_seg, augment = True, seed = seed)\n",
        "mask_datagen.fit(Y_train_seg, augment = True, seed = seed)\n",
        "\n",
        "image_generator = image_datagen.flow(X_train_seg, seed = seed, batch_size=16)\n",
        "mask_generator = mask_datagen.flow(Y_train_seg, seed = seed, batch_size=16)\n",
        "train_generator = (pair for pair in zip(image_generator, mask_generator))\n",
        "\n",
        "(num_train_samples, _, _, _) = X_train_seg.shape"
      ],
      "execution_count": null,
      "outputs": []
    },
    {
      "cell_type": "code",
      "metadata": {
        "id": "50451GicJ-VA",
        "colab_type": "code",
        "colab": {}
      },
      "source": [
        "X_train_seg_f = np.zeros(X_train_seg.shape)\n",
        "Y_train_seg_f = np.zeros(Y_train_seg.shape)\n",
        "\n",
        "for step in range(0, num_train_samples):\n",
        "    X_batch, Y_batch = next(train_generator)\n",
        "    X_train_seg_f[step,:,:,:] = X_batch[0,:,:,:]\n",
        "    Y_train_seg_f[step,:,:,:] = np.round(Y_batch[0,:,:,:])"
      ],
      "execution_count": null,
      "outputs": []
    },
    {
      "cell_type": "code",
      "metadata": {
        "id": "yOLtJ4COJczm",
        "colab_type": "code",
        "colab": {
          "base_uri": "https://localhost:8080/",
          "height": 118
        },
        "outputId": "fd43341e-3e20-4927-9abf-6343c5d3cd55"
      },
      "source": [
        "import numpy as np\n",
        "import glob\n",
        "import os\n",
        "import keras\n",
        "from PIL import Image\n",
        "import shutil\n",
        "from keras.preprocessing.image import ImageDataGenerator\n",
        "\n",
        "seed = 909\n",
        "datagen_args = dict(rescale = 1./255, rotation_range = 10, width_shift_range = 0.1, height_shift_range = 0.1, horizontal_flip = True, vertical_flip = True)\n",
        "image_datagen = ImageDataGenerator(**datagen_args)\n",
        "mask_datagen = ImageDataGenerator(**datagen_args)\n",
        "\n",
        "image_generator = image_datagen.flow_from_directory('train_3d/images', seed = seed, batch_size=16, target_size = (256, 256), classes=None, class_mode=None, color_mode = 'grayscale')\n",
        "mask_generator = mask_datagen.flow_from_directory('train_3d/masks', seed = seed, batch_size=16, target_size = (256, 256), classes = None, class_mode=None, color_mode = 'grayscale')\n",
        "train_generator = (pair for pair in zip(image_generator, mask_generator))\n",
        "\n",
        "#num_train_samples = len(os.listdir('train_3d/images/all_images'))\n",
        "\n",
        "test_datagen_args = dict(rescale = 1./255)\n",
        "image_datagen_valid = ImageDataGenerator(**test_datagen_args)\n",
        "mask_datagen_valid = ImageDataGenerator(**test_datagen_args)\n",
        "image_generator_valid = image_datagen_valid.flow_from_directory('validation_3d/images', seed = seed, batch_size=1, target_size = (256, 256), classes=None, class_mode=None, color_mode = 'grayscale')\n",
        "mask_generator_valid = mask_datagen_valid.flow_from_directory('validation_3d/masks', seed = seed, batch_size=1, target_size = (256, 256), classes = None, class_mode=None, color_mode = 'grayscale')\n",
        "valid_generator = (pair for pair in zip(image_generator_valid, mask_generator_valid))\n",
        "\n",
        "#num_valid_samples = len(os.listdir('validation_3d/images/all_images'))\n",
        "\n",
        "test_datagen_args = dict(rescale = 1./255)\n",
        "image_datagen_test = ImageDataGenerator(**test_datagen_args)\n",
        "mask_datagen_test = ImageDataGenerator(**test_datagen_args)\n",
        "image_generator_test = image_datagen_test.flow_from_directory('test_3d/images', seed = seed, batch_size=1, target_size = (256, 256), classes=None, class_mode=None, color_mode = 'grayscale')\n",
        "mask_generator_test = mask_datagen_test.flow_from_directory('test_3d/masks', seed = seed, batch_size=1, target_size = (256, 256), classes = None, class_mode=None, color_mode = 'grayscale')\n",
        "test_generator = (pair for pair in zip(image_generator_test, mask_generator_test))\n",
        "\n",
        "#num_test_samples = len(os.listdir('test_3d/images/all_images'))"
      ],
      "execution_count": null,
      "outputs": [
        {
          "output_type": "stream",
          "text": [
            "Found 48108 images belonging to 1 classes.\n",
            "Found 48108 images belonging to 1 classes.\n",
            "Found 13397 images belonging to 1 classes.\n",
            "Found 13397 images belonging to 1 classes.\n",
            "Found 17888 images belonging to 1 classes.\n",
            "Found 17888 images belonging to 1 classes.\n"
          ],
          "name": "stdout"
        }
      ]
    },
    {
      "cell_type": "code",
      "metadata": {
        "id": "jf3U6RYiUeHY",
        "colab_type": "code",
        "colab": {
          "base_uri": "https://localhost:8080/",
          "height": 303
        },
        "outputId": "6008a843-d6e6-4f61-92c4-0e5b5ff89b80"
      },
      "source": [
        "next(mask_generator)"
      ],
      "execution_count": null,
      "outputs": [
        {
          "output_type": "error",
          "ename": "UnidentifiedImageError",
          "evalue": "ignored",
          "traceback": [
            "\u001b[0;31m---------------------------------------------------------------------------\u001b[0m",
            "\u001b[0;31mUnidentifiedImageError\u001b[0m                    Traceback (most recent call last)",
            "\u001b[0;32m<ipython-input-47-248f593d538a>\u001b[0m in \u001b[0;36m<module>\u001b[0;34m()\u001b[0m\n\u001b[0;32m----> 1\u001b[0;31m \u001b[0mnext\u001b[0m\u001b[0;34m(\u001b[0m\u001b[0mmask_generator\u001b[0m\u001b[0;34m)\u001b[0m\u001b[0;34m\u001b[0m\u001b[0;34m\u001b[0m\u001b[0m\n\u001b[0m",
            "\u001b[0;32m/usr/local/lib/python3.6/dist-packages/keras_preprocessing/image/iterator.py\u001b[0m in \u001b[0;36m__next__\u001b[0;34m(self, *args, **kwargs)\u001b[0m\n\u001b[1;32m    102\u001b[0m \u001b[0;34m\u001b[0m\u001b[0m\n\u001b[1;32m    103\u001b[0m     \u001b[0;32mdef\u001b[0m \u001b[0m__next__\u001b[0m\u001b[0;34m(\u001b[0m\u001b[0mself\u001b[0m\u001b[0;34m,\u001b[0m \u001b[0;34m*\u001b[0m\u001b[0margs\u001b[0m\u001b[0;34m,\u001b[0m \u001b[0;34m**\u001b[0m\u001b[0mkwargs\u001b[0m\u001b[0;34m)\u001b[0m\u001b[0;34m:\u001b[0m\u001b[0;34m\u001b[0m\u001b[0;34m\u001b[0m\u001b[0m\n\u001b[0;32m--> 104\u001b[0;31m         \u001b[0;32mreturn\u001b[0m \u001b[0mself\u001b[0m\u001b[0;34m.\u001b[0m\u001b[0mnext\u001b[0m\u001b[0;34m(\u001b[0m\u001b[0;34m*\u001b[0m\u001b[0margs\u001b[0m\u001b[0;34m,\u001b[0m \u001b[0;34m**\u001b[0m\u001b[0mkwargs\u001b[0m\u001b[0;34m)\u001b[0m\u001b[0;34m\u001b[0m\u001b[0;34m\u001b[0m\u001b[0m\n\u001b[0m\u001b[1;32m    105\u001b[0m \u001b[0;34m\u001b[0m\u001b[0m\n\u001b[1;32m    106\u001b[0m     \u001b[0;32mdef\u001b[0m \u001b[0mnext\u001b[0m\u001b[0;34m(\u001b[0m\u001b[0mself\u001b[0m\u001b[0;34m)\u001b[0m\u001b[0;34m:\u001b[0m\u001b[0;34m\u001b[0m\u001b[0;34m\u001b[0m\u001b[0m\n",
            "\u001b[0;32m/usr/local/lib/python3.6/dist-packages/keras_preprocessing/image/iterator.py\u001b[0m in \u001b[0;36mnext\u001b[0;34m(self)\u001b[0m\n\u001b[1;32m    114\u001b[0m         \u001b[0;31m# The transformation of images is not under thread lock\u001b[0m\u001b[0;34m\u001b[0m\u001b[0;34m\u001b[0m\u001b[0;34m\u001b[0m\u001b[0m\n\u001b[1;32m    115\u001b[0m         \u001b[0;31m# so it can be done in parallel\u001b[0m\u001b[0;34m\u001b[0m\u001b[0;34m\u001b[0m\u001b[0;34m\u001b[0m\u001b[0m\n\u001b[0;32m--> 116\u001b[0;31m         \u001b[0;32mreturn\u001b[0m \u001b[0mself\u001b[0m\u001b[0;34m.\u001b[0m\u001b[0m_get_batches_of_transformed_samples\u001b[0m\u001b[0;34m(\u001b[0m\u001b[0mindex_array\u001b[0m\u001b[0;34m)\u001b[0m\u001b[0;34m\u001b[0m\u001b[0;34m\u001b[0m\u001b[0m\n\u001b[0m\u001b[1;32m    117\u001b[0m \u001b[0;34m\u001b[0m\u001b[0m\n\u001b[1;32m    118\u001b[0m     \u001b[0;32mdef\u001b[0m \u001b[0m_get_batches_of_transformed_samples\u001b[0m\u001b[0;34m(\u001b[0m\u001b[0mself\u001b[0m\u001b[0;34m,\u001b[0m \u001b[0mindex_array\u001b[0m\u001b[0;34m)\u001b[0m\u001b[0;34m:\u001b[0m\u001b[0;34m\u001b[0m\u001b[0;34m\u001b[0m\u001b[0m\n",
            "\u001b[0;32m/usr/local/lib/python3.6/dist-packages/keras_preprocessing/image/iterator.py\u001b[0m in \u001b[0;36m_get_batches_of_transformed_samples\u001b[0;34m(self, index_array)\u001b[0m\n\u001b[1;32m    228\u001b[0m                            \u001b[0mcolor_mode\u001b[0m\u001b[0;34m=\u001b[0m\u001b[0mself\u001b[0m\u001b[0;34m.\u001b[0m\u001b[0mcolor_mode\u001b[0m\u001b[0;34m,\u001b[0m\u001b[0;34m\u001b[0m\u001b[0;34m\u001b[0m\u001b[0m\n\u001b[1;32m    229\u001b[0m                            \u001b[0mtarget_size\u001b[0m\u001b[0;34m=\u001b[0m\u001b[0mself\u001b[0m\u001b[0;34m.\u001b[0m\u001b[0mtarget_size\u001b[0m\u001b[0;34m,\u001b[0m\u001b[0;34m\u001b[0m\u001b[0;34m\u001b[0m\u001b[0m\n\u001b[0;32m--> 230\u001b[0;31m                            interpolation=self.interpolation)\n\u001b[0m\u001b[1;32m    231\u001b[0m             \u001b[0mx\u001b[0m \u001b[0;34m=\u001b[0m \u001b[0mimg_to_array\u001b[0m\u001b[0;34m(\u001b[0m\u001b[0mimg\u001b[0m\u001b[0;34m,\u001b[0m \u001b[0mdata_format\u001b[0m\u001b[0;34m=\u001b[0m\u001b[0mself\u001b[0m\u001b[0;34m.\u001b[0m\u001b[0mdata_format\u001b[0m\u001b[0;34m)\u001b[0m\u001b[0;34m\u001b[0m\u001b[0;34m\u001b[0m\u001b[0m\n\u001b[1;32m    232\u001b[0m             \u001b[0;31m# Pillow images should be closed after `load_img`,\u001b[0m\u001b[0;34m\u001b[0m\u001b[0;34m\u001b[0m\u001b[0;34m\u001b[0m\u001b[0m\n",
            "\u001b[0;32m/usr/local/lib/python3.6/dist-packages/keras_preprocessing/image/utils.py\u001b[0m in \u001b[0;36mload_img\u001b[0;34m(path, grayscale, color_mode, target_size, interpolation)\u001b[0m\n\u001b[1;32m    112\u001b[0m                           'The use of `load_img` requires PIL.')\n\u001b[1;32m    113\u001b[0m     \u001b[0;32mwith\u001b[0m \u001b[0mopen\u001b[0m\u001b[0;34m(\u001b[0m\u001b[0mpath\u001b[0m\u001b[0;34m,\u001b[0m \u001b[0;34m'rb'\u001b[0m\u001b[0;34m)\u001b[0m \u001b[0;32mas\u001b[0m \u001b[0mf\u001b[0m\u001b[0;34m:\u001b[0m\u001b[0;34m\u001b[0m\u001b[0;34m\u001b[0m\u001b[0m\n\u001b[0;32m--> 114\u001b[0;31m         \u001b[0mimg\u001b[0m \u001b[0;34m=\u001b[0m \u001b[0mpil_image\u001b[0m\u001b[0;34m.\u001b[0m\u001b[0mopen\u001b[0m\u001b[0;34m(\u001b[0m\u001b[0mio\u001b[0m\u001b[0;34m.\u001b[0m\u001b[0mBytesIO\u001b[0m\u001b[0;34m(\u001b[0m\u001b[0mf\u001b[0m\u001b[0;34m.\u001b[0m\u001b[0mread\u001b[0m\u001b[0;34m(\u001b[0m\u001b[0;34m)\u001b[0m\u001b[0;34m)\u001b[0m\u001b[0;34m)\u001b[0m\u001b[0;34m\u001b[0m\u001b[0;34m\u001b[0m\u001b[0m\n\u001b[0m\u001b[1;32m    115\u001b[0m         \u001b[0;32mif\u001b[0m \u001b[0mcolor_mode\u001b[0m \u001b[0;34m==\u001b[0m \u001b[0;34m'grayscale'\u001b[0m\u001b[0;34m:\u001b[0m\u001b[0;34m\u001b[0m\u001b[0;34m\u001b[0m\u001b[0m\n\u001b[1;32m    116\u001b[0m             \u001b[0;31m# if image is not already an 8-bit, 16-bit or 32-bit grayscale image\u001b[0m\u001b[0;34m\u001b[0m\u001b[0;34m\u001b[0m\u001b[0;34m\u001b[0m\u001b[0m\n",
            "\u001b[0;32m/usr/local/lib/python3.6/dist-packages/PIL/Image.py\u001b[0m in \u001b[0;36mopen\u001b[0;34m(fp, mode)\u001b[0m\n\u001b[1;32m   2860\u001b[0m         \u001b[0mwarnings\u001b[0m\u001b[0;34m.\u001b[0m\u001b[0mwarn\u001b[0m\u001b[0;34m(\u001b[0m\u001b[0mmessage\u001b[0m\u001b[0;34m)\u001b[0m\u001b[0;34m\u001b[0m\u001b[0;34m\u001b[0m\u001b[0m\n\u001b[1;32m   2861\u001b[0m     raise UnidentifiedImageError(\n\u001b[0;32m-> 2862\u001b[0;31m         \u001b[0;34m\"cannot identify image file %r\"\u001b[0m \u001b[0;34m%\u001b[0m \u001b[0;34m(\u001b[0m\u001b[0mfilename\u001b[0m \u001b[0;32mif\u001b[0m \u001b[0mfilename\u001b[0m \u001b[0;32melse\u001b[0m \u001b[0mfp\u001b[0m\u001b[0;34m)\u001b[0m\u001b[0;34m\u001b[0m\u001b[0;34m\u001b[0m\u001b[0m\n\u001b[0m\u001b[1;32m   2863\u001b[0m     )\n\u001b[1;32m   2864\u001b[0m \u001b[0;34m\u001b[0m\u001b[0m\n",
            "\u001b[0;31mUnidentifiedImageError\u001b[0m: cannot identify image file <_io.BytesIO object at 0x7f889151f2b0>"
          ]
        }
      ]
    },
    {
      "cell_type": "code",
      "metadata": {
        "id": "UNpSA8TX_WWP",
        "colab_type": "code",
        "colab": {}
      },
      "source": [
        "#imagePaths_valid = glob.glob('')\n",
        "X_valid_seg = np.zeros((num_valid_samples, 256, 256, 1))\n",
        "Y_valid_seg = np.zeros((num_valid_samples, 256, 256, 1))\n",
        "for step in range(0, num_valid_samples):\n",
        "    X_batch, Y_batch = next(valid_generator)\n",
        "    X_valid_seg[step,:,:,:] = X_batch[0,:,:,:]\n",
        "    Y_valid_seg[step,:,:,:] = np.round(Y_batch[0,:,:,:])\n",
        "\n",
        "X_test_seg = np.zeros((num_test_samples, 256, 256, 1))\n",
        "Y_test_seg = np.zeros((num_test_samples, 256, 256, 1))\n",
        "for step in range(0, num_test_samples):\n",
        "    X_batch, Y_batch = next(test_generator)\n",
        "    X_test_seg[step,:,:,:] = X_batch[0,:,:,:]\n",
        "    Y_test_seg[step,:,:,:] = np.round(Y_batch[0,:,:,:])"
      ],
      "execution_count": null,
      "outputs": []
    },
    {
      "cell_type": "markdown",
      "metadata": {
        "id": "_i-JXEiBsb01",
        "colab_type": "text"
      },
      "source": [
        "Build general model with ImageNet starting weights"
      ]
    },
    {
      "cell_type": "code",
      "metadata": {
        "id": "kMojyDTnkjEg",
        "colab_type": "code",
        "colab": {}
      },
      "source": [
        "from keras import Sequential\n",
        "from keras import Model\n",
        "from keras.layers import Dense\n",
        "from keras.layers import GlobalAveragePooling2D\n",
        "from keras.optimizers import Adam\n",
        "from keras.applications.densenet import DenseNet121\n",
        "from keras.applications.vgg16 import VGG16\n",
        "from keras.applications.xception import Xception\n",
        "from keras.applications.nasnet import NASNetLarge\n",
        "\n",
        "def generate_classification_model():\n",
        "\n",
        "    # use pre-trained weights on ImageNet as starting weights\n",
        "    model = NASNetLarge(include_top=False, weights=None, input_shape=(256,256,1), pooling=max)\n",
        "\n",
        "    # add sigmoid activation layer\n",
        "    top_model = GlobalAveragePooling2D(input_shape=(256,256,1)) (model.layers[-1].output)\n",
        "    top_model2 = Dense(1, activation='sigmoid') (top_model)\n",
        "\n",
        "    new_model = Model(inputs=model.input, outputs=top_model2)\n",
        "    \n",
        "    adm = Adam(learning_rate=0.001, beta_1=0.9, beta_2=0.999, amsgrad=False)\n",
        "    new_model.compile(loss='binary_crossentropy', optimizer=adm, metrics=['binary_accuracy'])\n",
        "    return new_model"
      ],
      "execution_count": null,
      "outputs": []
    },
    {
      "cell_type": "code",
      "metadata": {
        "id": "ePcq8RrUMYTH",
        "colab_type": "code",
        "colab": {}
      },
      "source": [
        "from keras.preprocessing.image import ImageDataGenerator\n",
        "\n",
        "X_train_class_2 = X_train_class[:,:,:,0:1]\n",
        "X_valid_class_2 = X_valid_class[:,:,:,0:1]\n",
        "X_test_class_2 = X_test_class[:,:,:,0:1]\n",
        "\n",
        "seed = 909\n",
        "datagen_args = dict(rotation_range = 10, width_shift_range = 0.1, height_shift_range = 0.1, horizontal_flip = True, vertical_flip = True)\n",
        "image_datagen = ImageDataGenerator(**datagen_args)\n",
        "\n",
        "image_datagen.fit(X_train_class_2, augment = True, seed = seed)\n",
        "\n",
        "image_generator = image_datagen.flow(X_train_class_2, Y_train_class, seed = seed, batch_size=1)\n",
        "\n",
        "(num_train_samples, _, _, _) = X_train_class_2.shape"
      ],
      "execution_count": null,
      "outputs": []
    },
    {
      "cell_type": "markdown",
      "metadata": {
        "id": "qjRE6WfwsoKN",
        "colab_type": "text"
      },
      "source": [
        "Train and test the model"
      ]
    },
    {
      "cell_type": "code",
      "metadata": {
        "id": "CFs7t20vYtcv",
        "colab_type": "code",
        "colab": {}
      },
      "source": [
        "from keras.callbacks import ModelCheckpoint\n",
        "\n",
        "# run from DeepResection directory\n",
        "\n",
        "model_detect_resection = generate_classification_model()\n",
        "\n",
        "#model_detect_resection.summary()\n",
        "\n",
        "num_epochs = 20\n",
        "\n",
        "batch_size = 32\n",
        "\n",
        "steps_per_epoch = np.ceil(num_train_samples/batch_size)\n",
        "\n",
        "checkpointer = ModelCheckpoint('model_classification.h5', verbose=1, save_best_only=True)\n",
        "\n",
        "model_detect_resection.fit_generator(image_generator, validation_data = (X_valid_class_2, Y_valid_class), steps_per_epoch = steps_per_epoch, epochs=num_epochs, callbacks = [checkpointer])\n",
        "model_detect_resection.load_weights('model_classification.h5')\n",
        "score=model_detect_resection.evaluate(X_test_class_2, Y_test_class)\n",
        "\n",
        "print('metrics: ')\n",
        "print(model_detect_resection.metrics_names)\n",
        "print('scores:')\n",
        "print(score)"
      ],
      "execution_count": null,
      "outputs": []
    },
    {
      "cell_type": "markdown",
      "metadata": {
        "id": "6LoUjhVSVMWl",
        "colab_type": "text"
      },
      "source": [
        "Calculate and plot the ROC curve for the binary classification problem"
      ]
    },
    {
      "cell_type": "code",
      "metadata": {
        "id": "KMydl6gyVI3c",
        "colab_type": "code",
        "colab": {}
      },
      "source": [
        "from sklearn.metrics import roc_curve, roc_auc_score\n",
        "import matplotlib.pyplot as plt\n",
        "\n",
        "Y_score = model_detect_resection.predict(X_test_class_2)\n",
        "fpr, tpr, thresholds = roc_curve(Y_test_class, Y_score)\n",
        "auc = roc_auc_score(Y_test_class, Y_score)\n",
        "print('auc: ')\n",
        "print(auc)\n",
        "\n",
        "plt.plot(fpr, tpr)\n",
        "plt.axis([-0.1, 1, 0, 1.1])\n",
        "plt.xlabel('False Positive Rate')\n",
        "plt.ylabel('True Positive Rate')\n",
        "plt.title('ROC Curve: Classification of Resection Zone Images')\n",
        "plt.show()"
      ],
      "execution_count": null,
      "outputs": []
    },
    {
      "cell_type": "markdown",
      "metadata": {
        "id": "SF5sZvUqhITN",
        "colab_type": "text"
      },
      "source": [
        "Magician's Corner code (copied and pasted)"
      ]
    },
    {
      "cell_type": "code",
      "metadata": {
        "id": "plqp5qY6hHbb",
        "colab_type": "code",
        "colab": {}
      },
      "source": [
        "import numpy as np\n",
        "import numpy.ma as ma\n",
        "import os\n",
        "import shutil\n",
        "import tensorflow as tf\n",
        "from keras.models import Model, load_model\n",
        "from keras.layers import Input, Conv2D, MaxPooling2D, UpSampling2D, concatenate, Conv2DTranspose, Dense, Dropout, Activation, Flatten, BatchNormalization, Reshape\n",
        "from keras.engine.topology import Layer\n",
        "\n",
        "from keras.layers.merge import concatenate, add\n",
        "from keras.layers.core import Lambda\n",
        "from keras.optimizers import Adam\n",
        "from keras.callbacks import ModelCheckpoint, LearningRateScheduler, EarlyStopping, ReduceLROnPlateau\n",
        "from keras import backend as K\n",
        "from keras.utils.generic_utils import get_custom_objects\n",
        "from sklearn.model_selection import train_test_split\n",
        "import matplotlib.pyplot as plt\n",
        "import imageio\n",
        "from natsort import natsorted\n",
        "import random\n",
        "import warnings\n",
        "warnings.filterwarnings(\"ignore\")\n",
        "\n",
        "def dice_coeff(y_true, y_pred):\n",
        "    # add epsilon to avoid a divide by 0 error in case a slice has no pixels set\n",
        "    # we only care about relative value, not absolute so this alteration doesn't matter\n",
        "    _epsilon = 10 ** -7\n",
        "    intersections = tf.reduce_sum(y_true * y_pred)\n",
        "    unions = tf.reduce_sum(y_true + y_pred)\n",
        "    dice_scores = (2.0 * intersections + _epsilon) / (unions + _epsilon)\n",
        "    return dice_scores\n",
        "\n",
        "def dice_loss(y_true, y_pred):\n",
        "    _epsilon = 10 ** -7\n",
        "    intersections = tf.reduce_sum(y_true * y_pred)\n",
        "    unions = tf.reduce_sum(y_true + y_pred)\n",
        "    dice_scores = (2.0 * intersections + _epsilon) / (unions + _epsilon)\n",
        "    loss = 1.0 - dice_scores\n",
        "    return loss\n",
        "  \n",
        "get_custom_objects().update({\"dice\": dice_loss})\n",
        "\n",
        "class LayerNormalization (Layer) :\n",
        "    \n",
        "    def call(self, x, mask=None, training=None) :\n",
        "        axis = list (range (1, len (x.shape)))\n",
        "        x /= K.std (x, axis = axis, keepdims = True) + K.epsilon()\n",
        "        x -= K.mean (x, axis = axis, keepdims = True)\n",
        "        return x\n",
        "        \n",
        "    def compute_output_shape(self, input_shape):\n",
        "        return input_shape\n",
        "\n",
        "def build_model(act_fn = 'relu', init_fn = 'he_normal', width=256, height = 256, channels = 1): \n",
        "    inputs = Input((width,height,channels))\n",
        "\n",
        "    # note we use linear function before layer normalization\n",
        "    conv1 = Conv2D(16, 5, activation = 'linear', padding = 'same', kernel_initializer = init_fn)(inputs)\n",
        "    conv1 = LayerNormalization()(conv1)\n",
        "    pool1 = MaxPooling2D(pool_size=(2, 2))(conv1)\n",
        "    conv2 = Conv2D(32, 3, activation = act_fn, padding = 'same', kernel_initializer = init_fn)(pool1)\n",
        "    pool2 = MaxPooling2D(pool_size=(2, 2))(conv2)\n",
        "    conv3 = Conv2D(64, 3, activation = 'linear', padding = 'same', kernel_initializer = init_fn)(pool2)\n",
        "    conv3 = LayerNormalization()(conv3)\n",
        "    pool3 = MaxPooling2D(pool_size=(2, 2))(conv3)\n",
        "    conv4 = Conv2D(128, 3, activation = act_fn, padding = 'same', kernel_initializer = init_fn)(pool3)\n",
        "    pool4 = MaxPooling2D(pool_size=(2, 2))(conv4)\n",
        "\n",
        "    conv5 = Conv2D(144, 3, activation = act_fn, padding = 'same', kernel_initializer = init_fn)(pool4)\n",
        "\n",
        "    up6 = Conv2D(128, 2, activation = 'linear', padding = 'same', kernel_initializer = init_fn)(UpSampling2D(size = (2,2))(conv5))\n",
        "    up6 = LayerNormalization()(up6)\n",
        "    merge6 = concatenate([conv4,up6], axis = 3)\n",
        "    conv6 = Conv2D(128, 3, activation = act_fn, padding = 'same', kernel_initializer = init_fn)(merge6)\n",
        "\n",
        "    up7 = Conv2D(64, 2, activation = act_fn, padding = 'same', kernel_initializer = init_fn)(UpSampling2D(size = (2,2))(conv6))\n",
        "    merge7 = concatenate([conv3,up7], axis = 3)\n",
        "    conv7 = Conv2D(64, 3, activation = act_fn, padding = 'same', kernel_initializer = init_fn)(merge7)\n",
        "\n",
        "    up8 = Conv2D(32, 2, activation = 'linear', padding = 'same', kernel_initializer = init_fn)(UpSampling2D(size = (2,2))(conv7))\n",
        "    up8 = LayerNormalization()(up8)\n",
        "    merge8 = concatenate([conv2,up8], axis = 3)\n",
        "    conv8 = Conv2D(32, 3, activation = act_fn, padding = 'same', kernel_initializer = init_fn)(merge8)\n",
        "\n",
        "    up9 = Conv2D(16, 2, activation = act_fn, padding = 'same', kernel_initializer = init_fn)(UpSampling2D(size = (2,2))(conv8))\n",
        "    merge9 = concatenate([conv1,up9], axis = 3)\n",
        "    conv9 = Conv2D(16, 3, activation = act_fn, padding = 'same', kernel_initializer = init_fn)(merge9)\n",
        "    conv10 = Conv2D(1, 1, activation = 'sigmoid')(conv9)\n",
        "    model = Model(inputs = inputs, outputs = conv10)\n",
        "\n",
        "    model.compile(optimizer = Adam(lr = 1e-4), loss = 'dice', metrics=[dice_coeff])\n",
        "    return model"
      ],
      "execution_count": null,
      "outputs": []
    },
    {
      "cell_type": "markdown",
      "metadata": {
        "id": "e3AUX8oV1pIq",
        "colab_type": "text"
      },
      "source": [
        "Display the training data after data augmentation"
      ]
    },
    {
      "cell_type": "code",
      "metadata": {
        "id": "YcYJ3ifloFHh",
        "colab_type": "code",
        "colab": {
          "base_uri": "https://localhost:8080/",
          "height": 196
        },
        "outputId": "77afc3a6-50a2-4a90-9327-e2b447686fe3"
      },
      "source": [
        "import matplotlib.pyplot as plt\n",
        "import numpy.ma as ma\n",
        "\n",
        "fig=plt.figure(figsize=(130, 130), dpi = 75)\n",
        "\n",
        "X_batch, Y_batch = next(valid_generator)\n",
        "while np.sum(Y_batch) < 100:\n",
        "    X_batch, Y_batch = next(valid_generator)\n",
        "#print(np.sum(Y_batch))\n",
        "img = X_batch[0,:,:,0]\n",
        "Y = Y_batch[0,:,:,0]\n",
        "print(np.sum(Y))\n",
        "#print(np.unique(Y))\n",
        "\n",
        "mask = ma.masked_where(Y == 0, Y)\n",
        "print(np.unique(Y))\n",
        "    \n",
        "fig.add_subplot(3, 3, 1)\n",
        "plt.imshow(img, cmap = \"gray\")\n",
        "plt.title(\"Image\")\n",
        "plt.axis('off')\n",
        "\n",
        "fig.add_subplot(3, 3, 2)\n",
        "plt.imshow(img, cmap = \"gray\")\n",
        "plt.imshow(mask, 'cool', alpha=0.7)\n",
        "plt.title(\"Image with mask\")\n",
        "plt.axis('off')\n",
        "\n",
        "fig.add_subplot(3, 3, 3)\n",
        "plt.imshow(mask, 'cool', alpha=0.7)\n",
        "plt.title(\"Mask\")\n",
        "plt.axis('off')\n",
        "    \n",
        "plt.subplots_adjust(bottom=0.1, left = 0.01, right=0.05, top=0.3)\n",
        "plt.show()\n",
        "#print(Y)\n",
        "#i=i+1"
      ],
      "execution_count": null,
      "outputs": [
        {
          "output_type": "stream",
          "text": [
            "339.0\n",
            "[0. 1.]\n"
          ],
          "name": "stdout"
        },
        {
          "output_type": "display_data",
          "data": {
            "image/png": "[encoded data removed]",
            "text/plain": [
              "<Figure size 9750x9750 with 3 Axes>"
            ]
          },
          "metadata": {
            "tags": [],
            "needs_background": "light"
          }
        }
      ]
    },
    {
      "cell_type": "markdown",
      "metadata": {
        "id": "qgAYwX33A3nz",
        "colab_type": "text"
      },
      "source": [
        "Train the particular model we are testing"
      ]
    },
    {
      "cell_type": "code",
      "metadata": {
        "id": "TXZugxO8zwFR",
        "colab_type": "code",
        "colab": {
          "base_uri": "https://localhost:8080/",
          "height": 50
        },
        "outputId": "5be4c9d2-307f-415e-f193-24e3de4443fe"
      },
      "source": [
        "import segmentation_models as sm\n",
        "import tensorflow\n",
        "\n",
        "num_epochs = 35\n",
        "\n",
        "batch_size = 16\n",
        "\n",
        "BACKBONE = 'inceptionv3'\n",
        "\n",
        "base_model = sm.Unet(BACKBONE, encoder_weights='imagenet', classes=1, activation='sigmoid')\n",
        "inp = Input(shape=(256, 256, 1))\n",
        "l1 = Conv2D(3, (1, 1)) (inp)\n",
        "out = base_model(l1)\n",
        "\n",
        "num_train_samples = 48108\n",
        "num_valid_samples = 13397\n",
        "\n",
        "model = Model(inp, out, name = base_model.name)\n",
        "#model = build_model()\n",
        "#model = Deeplabv3(input_shape=(256, 256, 1), classes = 1, weights = None, activation = 'sigmoid')\n",
        "checkpointer = ModelCheckpoint('model_inception_3d.h5', verbose=1, save_best_only=True)\n",
        "#model.load_weights('model_densenet.h5')\n",
        "model.compile(optimizer = Adam(lr = 1e-4), loss=dice_loss, metrics=[dice_coeff])\n",
        "steps_per_epoch = int(np.ceil(num_train_samples/batch_size))\n",
        "validation_steps = np.ceil(num_valid_samples/batch_size)\n",
        "results = model.fit_generator(train_generator, validation_data = valid_generator, validation_steps = validation_steps, steps_per_epoch=steps_per_epoch, epochs = num_epochs, callbacks = [checkpointer])"
      ],
      "execution_count": null,
      "outputs": [
        {
          "output_type": "stream",
          "text": [
            "Epoch 1/35\n",
            "1439/3007 [=============>................] - ETA: 1:55:19 - loss: 0.9738 - dice_coeff: 0.0262"
          ],
          "name": "stdout"
        }
      ]
    },
    {
      "cell_type": "markdown",
      "metadata": {
        "id": "SdQOoUim13tv",
        "colab_type": "text"
      },
      "source": [
        "Test the particular model we are testing, by calculating the dice score from the predicted masks, and displaying several examples containing predicted masks and corresponding ground truth masks"
      ]
    },
    {
      "cell_type": "code",
      "metadata": {
        "id": "PA-k0M34hSQE",
        "colab_type": "code",
        "colab": {
          "base_uri": "https://localhost:8080/",
          "height": 1000
        },
        "outputId": "4ce75f8b-ad22-455d-801e-5df3d0d85f56"
      },
      "source": [
        "model.load_weights('./model_seeg_inception.h5')\n",
        "preds_test = model.predict(X_valid_seg, verbose=1)\n",
        "preds_test = (preds_test > 0.5).astype(np.uint8)\n",
        "\n",
        "def np_dice(true, pred):\n",
        "    intersection = np.sum(true * pred)\n",
        "    dc =(2.0 * intersection) / (np.sum(true) + np.sum(pred))\n",
        "    return dc\n",
        "\n",
        "fig=plt.figure(figsize=(130, 130), dpi = 75)\n",
        "\n",
        "i=0\n",
        "for j in range(0,8,2):\n",
        "    while np.sum(X_valid_seg[i,:,:,0]) < 50:\n",
        "        i = i+1\n",
        "    #print(i)\n",
        "    X = X_valid_seg[i,:,:,0]\n",
        "    Y = Y_valid_seg[i,:,:,0]\n",
        "    mask = ma.masked_where(Y == 0, Y)\n",
        "    pred = preds_test[i,:,:,0]\n",
        "    pred = ma.masked_where(pred == 0, pred)\n",
        "    \n",
        "    fig.add_subplot(8, 2, j+1)\n",
        "    plt.imshow(X, cmap = \"gray\")\n",
        "    plt.imshow(mask, 'cool', alpha=0.7)\n",
        "    plt.title(\"Ground Truth\")\n",
        "    plt.axis('off')\n",
        "    \n",
        "    fig.add_subplot(8, 2, j+2)\n",
        "    plt.imshow(X, cmap = \"gray\")\n",
        "    plt.imshow(pred, 'cool', alpha=0.7)\n",
        "    plt.title(\"Prediction\")\n",
        "    plt.axis('off')\n",
        "    i = i+1\n",
        "    \n",
        "plt.subplots_adjust(bottom=0.1, left = 0.01, right=0.05, top=0.3)\n",
        "plt.show()\n",
        "\n",
        "print(\"The dice score for this model is: \", np_dice(Y_valid_seg, preds_test))"
      ],
      "execution_count": null,
      "outputs": [
        {
          "output_type": "stream",
          "text": [
            "1967/1967 [==============================] - 12s 6ms/step\n"
          ],
          "name": "stdout"
        },
        {
          "output_type": "display_data",
          "data": {
            "image/png": "[encoded data removed]",
            "text/plain": [
              "<Figure size 9750x9750 with 8 Axes>"
            ]
          },
          "metadata": {
            "tags": [],
            "needs_background": "light"
          }
        },
        {
          "output_type": "stream",
          "text": [
            "The dice score for this model is:  0.677206227303529\n"
          ],
          "name": "stdout"
        }
      ]
    },
    {
      "cell_type": "markdown",
      "metadata": {
        "id": "zZNVdUUi29Ej",
        "colab_type": "text"
      },
      "source": [
        "Run this to reset variables when debugging"
      ]
    },
    {
      "cell_type": "code",
      "metadata": {
        "id": "dIoB_-R225zU",
        "colab_type": "code",
        "colab": {
          "base_uri": "https://localhost:8080/",
          "height": 34
        },
        "outputId": "91676e69-286b-431f-f7bb-6242673efea6"
      },
      "source": [
        "%reset"
      ],
      "execution_count": null,
      "outputs": [
        {
          "output_type": "stream",
          "text": [
            "Once deleted, variables cannot be recovered. Proceed (y/[n])? y\n"
          ],
          "name": "stdout"
        }
      ]
    }
  ]
}