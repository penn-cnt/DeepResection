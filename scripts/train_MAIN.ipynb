{
  "nbformat": 4,
  "nbformat_minor": 0,
  "metadata": {
    "kernelspec": {
      "display_name": "Python 3",
      "name": "python3",
      "language": "python"
    },
    "language_info": {
      "mimetype": "text/x-python",
      "nbconvert_exporter": "python",
      "name": "python",
      "file_extension": ".py",
      "version": "3.6.1",
      "pygments_lexer": "ipython3",
      "codemirror_mode": {
        "version": 3,
        "name": "ipython"
      }
    },
    "anaconda-cloud": {},
    "colab": {
      "name": "Copy of train_MAIN.ipynb",
      "provenance": [],
      "collapsed_sections": [],
      "machine_shape": "hm"
    },
    "accelerator": "GPU"
  },
  "cells": [
    {
      "cell_type": "code",
      "metadata": {
        "id": "j79-wMtFz7BX",
        "colab_type": "code",
        "outputId": "b616ad8c-1b14-4201-f85b-fcfc2819b2cd",
        "colab": {
          "base_uri": "https://localhost:8080/",
          "height": 124
        }
      },
      "source": [
        "from google.colab import drive\n",
        "drive.mount('/content/gdrive')"
      ],
      "execution_count": 1,
      "outputs": [
        {
          "output_type": "stream",
          "text": [
            "Go to this URL in a browser: https://accounts.google.com/o/oauth2/auth?client_id=947318989803-6bn6qk8qdgf4n4g3pfee6491hc0brc4i.apps.googleusercontent.com&redirect_uri=urn%3aietf%3awg%3aoauth%3a2.0%3aoob&response_type=code&scope=email%20https%3a%2f%2fwww.googleapis.com%2fauth%2fdocs.test%20https%3a%2f%2fwww.googleapis.com%2fauth%2fdrive%20https%3a%2f%2fwww.googleapis.com%2fauth%2fdrive.photos.readonly%20https%3a%2f%2fwww.googleapis.com%2fauth%2fpeopleapi.readonly\n",
            "\n",
            "Enter your authorization code:\n",
            "··········\n",
            "Mounted at /content/gdrive\n"
          ],
          "name": "stdout"
        }
      ]
    },
    {
      "cell_type": "code",
      "metadata": {
        "id": "pN8xQbdW1WO1",
        "colab_type": "code",
        "outputId": "b13b2d35-86fb-4cd1-b2b4-580077884d57",
        "colab": {
          "base_uri": "https://localhost:8080/",
          "height": 139
        }
      },
      "source": [
        "import os\n",
        "os.getcwd()\n",
        "os.chdir('gdrive')\n",
        "os.chdir('My Drive')\n",
        "os.chdir('DeepResection')\n",
        "\n",
        "!ls"
      ],
      "execution_count": 2,
      "outputs": [
        {
          "output_type": "stream",
          "text": [
            "'Copy of train_MAIN.ipynb'   model_mc_diff_params.h5\t model_vgg16.h5\n",
            " data\t\t\t     model_mc.h5\t\t X_test_seg.npy\n",
            " model_1.h5\t\t     model_resnet18.h5\t\t X_train_seg.npy\n",
            " model_2.h5\t\t     model_resnet34.h5\t\t X_valid_seg.npy\n",
            " model_densenet.h5\t     model_resnet50.h5\t\t Y_test_seg.npy\n",
            " model.h5\t\t     model_test_val.h5\t\t Y_train_seg.npy\n",
            " model_mc_brightness.h5      model_vgg16_brightness.h5\t Y_valid_seg.npy\n"
          ],
          "name": "stdout"
        }
      ]
    },
    {
      "cell_type": "code",
      "metadata": {
        "id": "e2i0fqmSyfyu",
        "colab_type": "code",
        "outputId": "282a9388-98bb-4fa8-df64-a881206820f4",
        "colab": {
          "base_uri": "https://localhost:8080/",
          "height": 575
        }
      },
      "source": [
        "! pip install git+https://github.com/qubvel/segmentation_models"
      ],
      "execution_count": 3,
      "outputs": [
        {
          "output_type": "stream",
          "text": [
            "Collecting git+https://github.com/qubvel/segmentation_models\n",
            "  Cloning https://github.com/qubvel/segmentation_models to /tmp/pip-req-build-703kkk5r\n",
            "  Running command git clone -q https://github.com/qubvel/segmentation_models /tmp/pip-req-build-703kkk5r\n",
            "  Running command git submodule update --init --recursive -q\n",
            "Requirement already satisfied: keras_applications<=1.0.8,>=1.0.7 in /usr/local/lib/python3.6/dist-packages (from segmentation-models==1.0.1) (1.0.8)\n",
            "Collecting image-classifiers==1.0.0\n",
            "  Downloading https://files.pythonhosted.org/packages/81/98/6f84720e299a4942ab80df5f76ab97b7828b24d1de5e9b2cbbe6073228b7/image_classifiers-1.0.0-py3-none-any.whl\n",
            "Collecting efficientnet==1.0.0\n",
            "  Downloading https://files.pythonhosted.org/packages/97/82/f3ae07316f0461417dc54affab6e86ab188a5a22f33176d35271628b96e0/efficientnet-1.0.0-py3-none-any.whl\n",
            "Requirement already satisfied: h5py in /usr/local/lib/python3.6/dist-packages (from keras_applications<=1.0.8,>=1.0.7->segmentation-models==1.0.1) (2.10.0)\n",
            "Requirement already satisfied: numpy>=1.9.1 in /usr/local/lib/python3.6/dist-packages (from keras_applications<=1.0.8,>=1.0.7->segmentation-models==1.0.1) (1.18.4)\n",
            "Requirement already satisfied: scikit-image in /usr/local/lib/python3.6/dist-packages (from efficientnet==1.0.0->segmentation-models==1.0.1) (0.16.2)\n",
            "Requirement already satisfied: six in /usr/local/lib/python3.6/dist-packages (from h5py->keras_applications<=1.0.8,>=1.0.7->segmentation-models==1.0.1) (1.12.0)\n",
            "Requirement already satisfied: matplotlib!=3.0.0,>=2.0.0 in /usr/local/lib/python3.6/dist-packages (from scikit-image->efficientnet==1.0.0->segmentation-models==1.0.1) (3.2.1)\n",
            "Requirement already satisfied: pillow>=4.3.0 in /usr/local/lib/python3.6/dist-packages (from scikit-image->efficientnet==1.0.0->segmentation-models==1.0.1) (7.0.0)\n",
            "Requirement already satisfied: networkx>=2.0 in /usr/local/lib/python3.6/dist-packages (from scikit-image->efficientnet==1.0.0->segmentation-models==1.0.1) (2.4)\n",
            "Requirement already satisfied: PyWavelets>=0.4.0 in /usr/local/lib/python3.6/dist-packages (from scikit-image->efficientnet==1.0.0->segmentation-models==1.0.1) (1.1.1)\n",
            "Requirement already satisfied: imageio>=2.3.0 in /usr/local/lib/python3.6/dist-packages (from scikit-image->efficientnet==1.0.0->segmentation-models==1.0.1) (2.4.1)\n",
            "Requirement already satisfied: scipy>=0.19.0 in /usr/local/lib/python3.6/dist-packages (from scikit-image->efficientnet==1.0.0->segmentation-models==1.0.1) (1.4.1)\n",
            "Requirement already satisfied: kiwisolver>=1.0.1 in /usr/local/lib/python3.6/dist-packages (from matplotlib!=3.0.0,>=2.0.0->scikit-image->efficientnet==1.0.0->segmentation-models==1.0.1) (1.2.0)\n",
            "Requirement already satisfied: python-dateutil>=2.1 in /usr/local/lib/python3.6/dist-packages (from matplotlib!=3.0.0,>=2.0.0->scikit-image->efficientnet==1.0.0->segmentation-models==1.0.1) (2.8.1)\n",
            "Requirement already satisfied: cycler>=0.10 in /usr/local/lib/python3.6/dist-packages (from matplotlib!=3.0.0,>=2.0.0->scikit-image->efficientnet==1.0.0->segmentation-models==1.0.1) (0.10.0)\n",
            "Requirement already satisfied: pyparsing!=2.0.4,!=2.1.2,!=2.1.6,>=2.0.1 in /usr/local/lib/python3.6/dist-packages (from matplotlib!=3.0.0,>=2.0.0->scikit-image->efficientnet==1.0.0->segmentation-models==1.0.1) (2.4.7)\n",
            "Requirement already satisfied: decorator>=4.3.0 in /usr/local/lib/python3.6/dist-packages (from networkx>=2.0->scikit-image->efficientnet==1.0.0->segmentation-models==1.0.1) (4.4.2)\n",
            "Building wheels for collected packages: segmentation-models\n",
            "  Building wheel for segmentation-models (setup.py) ... \u001b[?25l\u001b[?25hdone\n",
            "  Created wheel for segmentation-models: filename=segmentation_models-1.0.1-cp36-none-any.whl size=33792 sha256=d35d1fb78c75b7bab574f137edc5d65d3dac07f07346023e240a398df867e2ab\n",
            "  Stored in directory: /tmp/pip-ephem-wheel-cache-xnsqa07c/wheels/49/cf/46/cbb4bb64518c402aea99df9d466f1081450597e653256bbcf4\n",
            "Successfully built segmentation-models\n",
            "Installing collected packages: image-classifiers, efficientnet, segmentation-models\n",
            "Successfully installed efficientnet-1.0.0 image-classifiers-1.0.0 segmentation-models-1.0.1\n"
          ],
          "name": "stdout"
        }
      ]
    },
    {
      "cell_type": "markdown",
      "metadata": {
        "id": "wHmZ-yi7kKT_",
        "colab_type": "text"
      },
      "source": [
        "After navigating to the right directory, implement the data preprocessing/generating code"
      ]
    },
    {
      "cell_type": "code",
      "metadata": {
        "id": "5yj5aYJFjMuM",
        "colab_type": "code",
        "colab": {}
      },
      "source": [
        "import numpy as np\n",
        "import glob\n",
        "import os\n",
        "import keras\n",
        "from PIL import Image\n",
        "from sklearn.model_selection import train_test_split\n",
        "\n",
        "def getListOfImagePaths(dirPath):\n",
        "    imagePaths = glob.glob('data/png/*/img/*')\n",
        "    ret = [os.path.join(dirPath, os.path.normpath(path)) for path in imagePaths]\n",
        "    return ret\n",
        "\n",
        "def getListOfMaskPaths(imagePaths):\n",
        "    ret = [p.replace('img/', 'mask/') for p in imagePaths]\n",
        "    return ret\n",
        "\n",
        "# dim is a tuple: (192, 192)\n",
        "def getImagesForClassification(imagePaths, dim=(192, 192)):\n",
        "    ret = np.empty((len(imagePaths), dim[0], dim[1], 3))\n",
        "    index = 0\n",
        "    for path in imagePaths:\n",
        "        img = Image.open(path)\n",
        "        img_arr = np.asarray(img)\n",
        "        #crop image\n",
        "        if(img_arr.shape[0] != dim[0]):\n",
        "            toBeRemoved = img_arr.shape[0]-dim[0]\n",
        "            toBeRemoved1 = int(np.ceil(toBeRemoved/2))\n",
        "            toBeRemoved2 = int(np.floor(toBeRemoved/2))\n",
        "            index1 = toBeRemoved1\n",
        "            index2 = img_arr.shape[0]-toBeRemoved2\n",
        "            img_arr = img_arr[index1:index2,:]\n",
        "        if(img_arr.shape[1] != dim[1]):\n",
        "            toBeRemoved = img_arr.shape[1]-dim[1]\n",
        "            toBeRemoved1 = int(np.ceil(toBeRemoved/2))\n",
        "            toBeRemoved2 = int(np.floor(toBeRemoved/2))\n",
        "            index1 = toBeRemoved1\n",
        "            index2 = img_arr.shape[1]-toBeRemoved2\n",
        "            img_arr = img_arr[:,index1:index2]\n",
        "        #add image to returned array\n",
        "        ret[index,:,:,0] = img_arr\n",
        "        ret[index,:,:,1] = img_arr\n",
        "        ret[index,:,:,2] = img_arr\n",
        "        index=index+1\n",
        "    return ret\n",
        "\n",
        "# returns numpy vector where each entry is 0 or 1 based on whether the image contains resected tissue\n",
        "def getClassificationY(maskPaths):\n",
        "    num_masks = len(maskPaths)\n",
        "    Y = np.zeros(num_masks)\n",
        "    index = 0\n",
        "    for path in imagePaths:\n",
        "        img = Image.open(path)\n",
        "        img_arr = np.asarray(img)\n",
        "        #crop image\n",
        "        if(img_arr.shape[0] != dim[0]):\n",
        "            toBeRemoved = img_arr.shape[0]-dim[0]\n",
        "            toBeRemoved1 = int(np.ceil(toBeRemoved/2))\n",
        "            toBeRemoved2 = int(np.floor(toBeRemoved/2))\n",
        "            index1 = toBeRemoved1\n",
        "            index2 = img_arr.shape[0]-toBeRemoved2\n",
        "            img_arr = img_arr[index1:index2,:]\n",
        "        if(img_arr.shape[1] != dim[1]):\n",
        "            toBeRemoved = img_arr.shape[1]-dim[1]\n",
        "            toBeRemoved1 = int(np.ceil(toBeRemoved/2))\n",
        "            toBeRemoved2 = int(np.floor(toBeRemoved/2))\n",
        "            index1 = toBeRemoved1\n",
        "            index2 = img_arr.shape[1]-toBeRemoved2\n",
        "            img_arr = img_arr[:,index1:index2]\n",
        "        Y[index] = 1 if np.any(img_arr) else 0\n",
        "        index=index+1\n",
        "    return Y\n",
        "\n",
        "# dim is a tuple: (256, 256)\n",
        "def getImagesForSegmentation(imagePaths, dim=(256,256)):\n",
        "    ret = np.empty((len(imagePaths), dim[0], dim[1]))\n",
        "    index = 0\n",
        "    for path in imagePaths:\n",
        "        img = Image.open(path)\n",
        "        img_arr = np.asarray(img)\n",
        "        #pad image\n",
        "        if(img_arr.shape[0] != dim[0]):\n",
        "            toBeAdded = dim[0] - img_arr.shape[0]\n",
        "            toBeAdded1 = int(np.ceil(toBeAdded/2))\n",
        "            toBeAdded2 = int(np.floor(toBeAdded/2))\n",
        "            img_arr = np.pad(img_arr, ((toBeAdded1, toBeAdded2), (0, 0)))\n",
        "        if(img_arr.shape[1] != dim[1]):\n",
        "            toBeAdded = dim[1] - img_arr.shape[1]\n",
        "            toBeAdded1 = int(np.ceil(toBeAdded/2))\n",
        "            toBeAdded2 = int(np.floor(toBeAdded/2))\n",
        "            img_arr = np.pad(img_arr, ((0, 0), (toBeAdded1, toBeAdded2)))\n",
        "        #add image to returned array\n",
        "        ret[index,:,:] = img_arr\n",
        "        index=index+1\n",
        "    return ret\n",
        "\n",
        "\n",
        "dirPath = os.getcwd()\n",
        "imagePaths = getListOfImagePaths(dirPath)\n",
        "maskPaths = getListOfMaskPaths(imagePaths)\n",
        "\n",
        "# define the training, validation, and test patients\n",
        "imagePaths_valid = []\n",
        "for path in imagePaths:\n",
        "    if '14_w' in path or '23_r' in path or '27_m' in path or 'pat05' in path or 'pat11' in path or 'pat15' in path or 'pat20' in path:\n",
        "        imagePaths_valid.append(path)\n",
        "maskPaths_valid = getListOfMaskPaths(imagePaths_valid)\n",
        "imagePaths_test = []\n",
        "for path in imagePaths:\n",
        "    if '24_c' in path or '40_f' in path or '42_m' in path or 'pat03' in path or 'pat06' in path or 'pat25' in path or 'pat30' in path:\n",
        "        imagePaths_test.append(path)\n",
        "maskPaths_test = getListOfMaskPaths(imagePaths_test)\n",
        "imagePaths_train = []\n",
        "for path in imagePaths:\n",
        "    if path not in imagePaths_valid and path not in imagePaths_test:\n",
        "        imagePaths_train.append(path)\n",
        "maskPaths_train = getListOfMaskPaths(imagePaths_train)\n",
        "\n",
        "# get X and Y for each set, for the classification of images containing and not containing resected tissue\n",
        "X_train_class = getImagesForClassification(imagePaths_train)\n",
        "X_train_class = X_train_class/255\n",
        "X_valid_class = getImagesForClassification(imagePaths_valid)\n",
        "X_valid_class = X_valid_class/255\n",
        "X_test_class = getImagesForClassification(imagePaths_test)\n",
        "X_test_class = X_test_class/255\n",
        "Y_train_class = getClassificationY(maskPaths_train)\n",
        "Y_valid_class = getClassificationY(maskPaths_valid)\n",
        "Y_test_class = getClassificationY(maskPaths_test)\n",
        "\n",
        "# get X and Y for each set, for the segmentation of resected tissue in images\n",
        "X_train_seg = getImagesForSegmentation(imagePaths_train)\n",
        "X_train_seg = X_train_seg/255\n",
        "X_train_seg = X_train_seg[..., np.newaxis]\n",
        "X_valid_seg = getImagesForSegmentation(imagePaths_valid)\n",
        "X_valid_seg = X_valid_seg/255\n",
        "X_valid_seg = X_valid_seg[..., np.newaxis]\n",
        "X_test_seg = getImagesForSegmentation(imagePaths_test)\n",
        "X_test_seg = X_test_seg/255\n",
        "X_test_seg = X_test_seg[..., np.newaxis]\n",
        "Y_train_seg = getImagesForSegmentation(maskPaths_train)\n",
        "Y_train_seg = Y_train_seg/255\n",
        "Y_train_seg = (Y_train_seg > 0).astype(np.float32)\n",
        "Y_train_seg = Y_train_seg[..., np.newaxis]\n",
        "Y_valid_seg = getImagesForSegmentation(maskPaths_valid)\n",
        "Y_valid_seg = Y_valid_seg/255\n",
        "Y_valid_seg = (Y_valid_seg > 0).astype(np.float32)\n",
        "Y_valid_seg = Y_valid_seg[..., np.newaxis]\n",
        "Y_test_seg = getImagesForSegmentation(maskPaths_test)\n",
        "Y_test_seg = Y_test_seg/255\n",
        "Y_test_seg = (Y_test_seg > 0).astype(np.float32)\n",
        "Y_test_seg = Y_test_seg[..., np.newaxis]"
      ],
      "execution_count": 0,
      "outputs": []
    },
    {
      "cell_type": "markdown",
      "metadata": {
        "id": "GpwpCK7fDMzQ",
        "colab_type": "text"
      },
      "source": [
        "Save dataset to npy files"
      ]
    },
    {
      "cell_type": "code",
      "metadata": {
        "id": "igJIBkEWDWYy",
        "colab_type": "code",
        "colab": {}
      },
      "source": [
        "np.save('X_train_class.npy', X_train_class)\n",
        "np.save('Y_train_class.npy', Y_train_class)\n",
        "np.save('X_valid_class.npy', X_valid_class)\n",
        "np.save('Y_valid_class.npy', Y_valid_class)\n",
        "np.save('X_test_class.npy', X_test_class)\n",
        "np.save('Y_test_class.npy', Y_test_class)\n",
        "\n",
        "np.save('X_train_seg.npy', X_train_seg)\n",
        "np.save('Y_train_seg.npy', Y_train_seg)\n",
        "np.save('X_valid_seg.npy', X_valid_seg)\n",
        "np.save('Y_valid_seg.npy', Y_valid_seg)\n",
        "np.save('X_test_seg.npy', X_test_seg)\n",
        "np.save('Y_test_seg.npy', Y_test_seg)"
      ],
      "execution_count": 0,
      "outputs": []
    },
    {
      "cell_type": "markdown",
      "metadata": {
        "id": "4YB0EYcihleY",
        "colab_type": "text"
      },
      "source": [
        "Load dataset from npy files"
      ]
    },
    {
      "cell_type": "code",
      "metadata": {
        "id": "194adJzYhimP",
        "colab_type": "code",
        "colab": {}
      },
      "source": [
        "import numpy as np\n",
        "\n",
        "X_train_seg = np.load('X_train_seg.npy')\n",
        "Y_train_seg = np.load('Y_train_seg.npy')\n",
        "X_valid_seg = np.load('X_valid_seg.npy')\n",
        "Y_valid_seg = np.load('Y_valid_seg.npy')\n",
        "X_test_seg = np.load('X_test_seg.npy')\n",
        "Y_test_seg = np.load('Y_test_seg.npy')"
      ],
      "execution_count": 0,
      "outputs": []
    },
    {
      "cell_type": "markdown",
      "metadata": {
        "id": "EIKl4eZkgs9P",
        "colab_type": "text"
      },
      "source": [
        "Implement data augmentation on the training data, increasing model's generalizability\n",
        "\n"
      ]
    },
    {
      "cell_type": "code",
      "metadata": {
        "id": "W_gOZI8MC9ZC",
        "colab_type": "code",
        "colab": {}
      },
      "source": [
        "from tensorflow.keras.preprocessing.image import random_brightness\n",
        "\n",
        "(num_train_samples, _, _, _) = X_train_seg.shape\n",
        "X_train_seg_b = np.zeros(X_train_seg.shape)\n",
        "\n",
        "for i in range(0, num_train_samples):\n",
        "    img = X_train_seg[i,:,:,:]\n",
        "    img_b = random_brightness(img, brightness_range=(0.7, 1.3))\n",
        "    X_train_seg_b[i,:,:,:] = img_b\n",
        "\n",
        "X_train_seg_b = X_train_seg_b/255"
      ],
      "execution_count": 0,
      "outputs": []
    },
    {
      "cell_type": "code",
      "metadata": {
        "id": "ySrBY9kUgqbd",
        "colab_type": "code",
        "colab": {
          "base_uri": "https://localhost:8080/",
          "height": 35
        },
        "outputId": "4f43f4f6-7072-4e46-ffbc-5a4d7e534c80"
      },
      "source": [
        "from keras.preprocessing.image import ImageDataGenerator\n",
        "\n",
        "seed = 909\n",
        "datagen_args = dict(rotation_range = 10, width_shift_range = 0.1, height_shift_range = 0.1, horizontal_flip = True, vertical_flip = True)\n",
        "#mask_args = dict(rotation_range = 10, width_shift_range = 0.1, height_shift_range = 0.1, horizontal_flip = True, vertical_flip = True)\n",
        "image_datagen = ImageDataGenerator(**datagen_args)\n",
        "mask_datagen = ImageDataGenerator(**datagen_args)\n",
        "\n",
        "image_datagen.fit(X_train_seg_b, augment = True, seed = seed)\n",
        "mask_datagen.fit(Y_train_seg, augment = True, seed = seed)\n",
        "\n",
        "image_generator = image_datagen.flow(X_train_seg_b, seed = seed, batch_size=1)\n",
        "mask_generator = mask_datagen.flow(Y_train_seg, seed = seed, batch_size=1)\n",
        "train_generator = (pair for pair in zip(image_generator, mask_generator))\n",
        "\n",
        "(num_train_samples, _, _, _) = X_train_seg.shape"
      ],
      "execution_count": 6,
      "outputs": [
        {
          "output_type": "stream",
          "text": [
            "Using TensorFlow backend.\n"
          ],
          "name": "stderr"
        }
      ]
    },
    {
      "cell_type": "code",
      "metadata": {
        "id": "50451GicJ-VA",
        "colab_type": "code",
        "colab": {}
      },
      "source": [
        "X_train_seg_f = np.zeros(X_train_seg.shape)\n",
        "Y_train_seg_f = np.zeros(Y_train_seg.shape)\n",
        "\n",
        "for step in range(0, num_train_samples):\n",
        "    X_batch, Y_batch = next(train_generator)\n",
        "    X_train_seg_f[step,:,:,:] = X_batch[0,:,:,:]\n",
        "    Y_train_seg_f[step,:,:,:] = np.round(Y_batch[0,:,:,:])"
      ],
      "execution_count": 0,
      "outputs": []
    },
    {
      "cell_type": "markdown",
      "metadata": {
        "id": "_i-JXEiBsb01",
        "colab_type": "text"
      },
      "source": [
        "Build general model with ImageNet starting weights"
      ]
    },
    {
      "cell_type": "code",
      "metadata": {
        "id": "kMojyDTnkjEg",
        "colab_type": "code",
        "colab": {}
      },
      "source": [
        "import tensorflow as tf\n",
        "from tensorflow import keras\n",
        "from tensorflow.keras import Sequential\n",
        "from tensorflow.keras import Model\n",
        "from tensorflow.keras.layers import Dense\n",
        "from tensorflow.keras.layers import GlobalAveragePooling2D\n",
        "from tensorflow.keras.optimizers import Adam\n",
        "from tensorflow.keras.applications.densenet import DenseNet121\n",
        "\n",
        "def generate_classification_model():\n",
        "\n",
        "    # use pre-trained weights on ImageNet as starting weights\n",
        "    model = DenseNet121(include_top=False, weights='imagenet', input_shape=(192,192,3), pooling=max)\n",
        "\n",
        "    # add sigmoid activation layer\n",
        "    top_model = GlobalAveragePooling2D(input_shape=(192,192,3)) (model.layers[-1].output)\n",
        "    top_model2 = Dense(1, activation='sigmoid') (top_model)\n",
        "\n",
        "    new_model = Model(inputs=model.input, outputs=top_model2)\n",
        "    \n",
        "    adm = Adam(learning_rate=0.001, beta_1=0.9, beta_2=0.999, amsgrad=False)\n",
        "    new_model.compile(loss='binary_crossentropy', optimizer=adm, metrics=['binary_accuracy'])\n",
        "    return new_model"
      ],
      "execution_count": 0,
      "outputs": []
    },
    {
      "cell_type": "markdown",
      "metadata": {
        "id": "qjRE6WfwsoKN",
        "colab_type": "text"
      },
      "source": [
        "Train and test the model"
      ]
    },
    {
      "cell_type": "code",
      "metadata": {
        "id": "CFs7t20vYtcv",
        "colab_type": "code",
        "colab": {}
      },
      "source": [
        "# run from DeepResection directory\n",
        "current_dir = os.getcwd()\n",
        "\n",
        "data_generator = DataGenerator(current_dir)\n",
        "\n",
        "model_detect_resection = generate_classification_model()\n",
        "\n",
        "model_detect_resection.summary()\n",
        "\n",
        "num_epochs = 10\n",
        "\n",
        "batch_size = 32\n",
        "\n",
        "X_train, Y_train = data_generator.getTrainDataForClassification()\n",
        "X_test, Y_test = data_generator.getTestDataForClassification()\n",
        "\n",
        "model_detect_resection.fit(X_train, Y_train, batch_size=batch_size, epochs=num_epochs)\n",
        "score=model_detect_resection.evaluate(X_test, Y_test)\n",
        "\n",
        "print('metrics: ')\n",
        "print(model_detect_resection.metrics_names)\n",
        "print('scores:')\n",
        "print(score)"
      ],
      "execution_count": 0,
      "outputs": []
    },
    {
      "cell_type": "markdown",
      "metadata": {
        "id": "6LoUjhVSVMWl",
        "colab_type": "text"
      },
      "source": [
        "Calculate and plot the ROC curve for the binary classification problem"
      ]
    },
    {
      "cell_type": "code",
      "metadata": {
        "id": "KMydl6gyVI3c",
        "colab_type": "code",
        "outputId": "0fc0d71a-f59c-4a1b-f1f8-0a2f8cae7d3b",
        "colab": {
          "base_uri": "https://localhost:8080/",
          "height": 330
        }
      },
      "source": [
        "from sklearn.metrics import roc_curve, roc_auc_score\n",
        "import matplotlib.pyplot as plt\n",
        "\n",
        "Y_score = model_detect_resection.predict(X_test)\n",
        "fpr, tpr, thresholds = roc_curve(Y_test, Y_score)\n",
        "auc = roc_auc_score(Y_test, Y_score)\n",
        "print('auc: ')\n",
        "print(auc)\n",
        "\n",
        "plt.plot(fpr, tpr)\n",
        "plt.axis([-0.1, 1, 0, 1.1])\n",
        "plt.xlabel('False Positive Rate')\n",
        "plt.ylabel('True Positive Rate')\n",
        "plt.title('ROC Curve: Classification of Resection Zone Images')\n",
        "plt.show()"
      ],
      "execution_count": 0,
      "outputs": [
        {
          "output_type": "stream",
          "text": [
            "auc: \n",
            "0.9979393599757159\n"
          ],
          "name": "stdout"
        },
        {
          "output_type": "display_data",
          "data": {
            "image/png": "[encoded data removed]",
            "text/plain": [
              "<Figure size 432x288 with 1 Axes>"
            ]
          },
          "metadata": {
            "tags": [],
            "needs_background": "light"
          }
        }
      ]
    },
    {
      "cell_type": "markdown",
      "metadata": {
        "id": "QUfxpM0H7-5F",
        "colab_type": "text"
      },
      "source": [
        "Generate the U-Net segmentation model (this code does it from scratch)\n",
        "\n"
      ]
    },
    {
      "cell_type": "code",
      "metadata": {
        "id": "IM0dyc7G72cs",
        "colab_type": "code",
        "colab": {}
      },
      "source": [
        "from keras.applications import VGG16\n",
        "from keras import Model\n",
        "from keras.layers import Dense, Input, Conv2D, MaxPooling2D, UpSampling2D, concatenate\n",
        "from keras.optimizers import Adam\n",
        "from keras.utils import get_custom_objects\n",
        "import tensorflow.keras.backend as K\n",
        "\n",
        "def dice_coeff(y_true, y_pred):\n",
        "    epsilon = 10 ** -7\n",
        "    intersection = tf.reduce_sum(y_true * y_pred)\n",
        "    union = tf.reduce_sum(y_true + y_pred)\n",
        "    dice_score = (2.0 * intersection + epsilon) / (union + epsilon)\n",
        "    return dice_score\n",
        "\n",
        "def dice_loss(y_true, y_pred):\n",
        "    loss = 1 - dice_coeff(y_true, y_pred)\n",
        "    return loss\n",
        "\n",
        "def generate_segmentation_model(input_size=(256, 256, 1)):\n",
        "    inputs = Input(input_size)\n",
        "\n",
        "    conv1 = Conv2D(64, 3, activation='relu', padding='same', kernel_initializer='he_normal')(inputs)\n",
        "    conv1 = Conv2D(64, 3, activation='relu', padding='same', kernel_initializer='he_normal')(conv1)\n",
        "    pool1 = MaxPooling2D(pool_size=(2,2))(conv1)\n",
        "\n",
        "    conv2 = Conv2D(128, 3, activation='relu', padding='same', kernel_initializer='he_normal')(pool1)\n",
        "    conv2 = Conv2D(128, 3, activation='relu', padding='same', kernel_initializer='he_normal')(conv2)\n",
        "    pool2 = MaxPooling2D(pool_size=(2,2))(conv2)\n",
        "\n",
        "    conv3 = Conv2D(256, 3, activation='relu', padding='same', kernel_initializer='he_normal')(pool2)\n",
        "    conv3 = Conv2D(256, 3, activation='relu', padding='same', kernel_initializer='he_normal')(conv3)\n",
        "    pool3 = MaxPooling2D(pool_size=(2,2))(conv3)\n",
        "\n",
        "    conv4 = Conv2D(512, 3, activation='relu', padding='same', kernel_initializer='he_normal')(pool3)\n",
        "    conv4 = Conv2D(512, 3, activation='relu', padding='same', kernel_initializer='he_normal')(conv4)\n",
        "    pool4 = MaxPooling2D(pool_size=(2,2))(conv4)\n",
        "\n",
        "    conv5 = Conv2D(1024, 3, activation='relu', padding='same', kernel_initializer='he_normal')(pool4)\n",
        "    conv5 = Conv2D(1024, 3, activation='relu', padding='same', kernel_initializer='he_normal')(conv5)\n",
        "\n",
        "    up6 = Conv2D(512, 2, activation='relu', padding='same', kernel_initializer='he_normal')(UpSampling2D(size=(2,2))(conv5))\n",
        "    merge6 = concatenate([conv4, up6], axis=3)\n",
        "    conv6 = Conv2D(512, 3, activation='relu', padding='same', kernel_initializer='he_normal')(merge6)\n",
        "    conv6 = Conv2D(512, 3, activation='relu', padding='same', kernel_initializer='he_normal')(conv6)\n",
        "\n",
        "    up7 = Conv2D(256, 2, activation='relu', padding='same', kernel_initializer='he_normal')(UpSampling2D(size=(2,2))(conv6))\n",
        "    merge7 = concatenate([conv3, up7], axis=3)\n",
        "    conv7 = Conv2D(256, 3, activation='relu', padding='same', kernel_initializer='he_normal')(merge7)\n",
        "    conv7 = Conv2D(256, 3, activation='relu', padding='same', kernel_initializer='he_normal')(conv7)\n",
        "\n",
        "    up8 = Conv2D(128, 2, activation='relu', padding='same', kernel_initializer='he_normal')(UpSampling2D(size=(2,2))(conv7))\n",
        "    merge8 = concatenate([conv2, up8], axis=3)\n",
        "    conv8 = Conv2D(128, 3, activation='relu', padding='same', kernel_initializer='he_normal')(merge8)\n",
        "    conv8 = Conv2D(128, 3, activation='relu', padding='same', kernel_initializer='he_normal')(conv8)\n",
        "\n",
        "    up9 = Conv2D(64, 2, activation='relu', padding='same', kernel_initializer='he_normal')(UpSampling2D(size=(2,2))(conv8))\n",
        "    merge9 = concatenate([conv1, up9], axis=3)\n",
        "    conv9 = Conv2D(64, 3, activation='relu', padding='same', kernel_initializer='he_normal')(merge9)\n",
        "    conv9 = Conv2D(64, 3, activation='relu', padding='same', kernel_initializer='he_normal')(conv9)\n",
        "\n",
        "    conv10 = Conv2D(1, 1, activation='sigmoid', padding='same', kernel_initializer='he_normal')(conv9)\n",
        "\n",
        "    model = Model(inputs = inputs, outputs = conv10)\n",
        "    model.compile(optimizer = Adam(lr = 1e-4), loss=dice_loss, metrics=[dice_coeff])\n",
        "    return model\n",
        "\n",
        "def generate_segmentation_model_pretrained(input_size=(256, 256, 3)):\n",
        "    model_weights = VGG16(include_top = False, input_shape = (256, 256, 3), weights='imagenet', pooling=max)\n",
        "    layers = model_weights.layers\n",
        "\n",
        "    conv1 = layers[2].output\n",
        "    conv2 = layers[5].output\n",
        "    conv3 = layers[9].output\n",
        "    conv4 = layers[13].output\n",
        "    conv5 = layers[17].output\n",
        "\n",
        "    up6 = Conv2D(512, 2, activation='relu', padding='same', kernel_initializer='he_normal')(UpSampling2D(size=(2,2))(conv5))\n",
        "    merge6 = concatenate([conv4, up6], axis=3)\n",
        "    conv6 = Conv2D(512, 3, activation='relu', padding='same', kernel_initializer='he_normal')(merge6)\n",
        "    conv6 = Conv2D(512, 3, activation='relu', padding='same', kernel_initializer='he_normal')(conv6)\n",
        "\n",
        "    up7 = Conv2D(256, 2, activation='relu', padding='same', kernel_initializer='he_normal')(UpSampling2D(size=(2,2))(conv6))\n",
        "    merge7 = concatenate([conv3, up7], axis=3)\n",
        "    conv7 = Conv2D(256, 3, activation='relu', padding='same', kernel_initializer='he_normal')(merge7)\n",
        "    conv7 = Conv2D(256, 3, activation='relu', padding='same', kernel_initializer='he_normal')(conv7)\n",
        "\n",
        "    up8 = Conv2D(128, 2, activation='relu', padding='same', kernel_initializer='he_normal')(UpSampling2D(size=(2,2))(conv7))\n",
        "    merge8 = concatenate([conv2, up8], axis=3)\n",
        "    conv8 = Conv2D(128, 3, activation='relu', padding='same', kernel_initializer='he_normal')(merge8)\n",
        "    conv8 = Conv2D(128, 3, activation='relu', padding='same', kernel_initializer='he_normal')(conv8)\n",
        "\n",
        "    up9 = Conv2D(64, 2, activation='relu', padding='same', kernel_initializer='he_normal')(UpSampling2D(size=(2,2))(conv8))\n",
        "    merge9 = concatenate([conv1, up9], axis=3)\n",
        "    conv9 = Conv2D(64, 3, activation='relu', padding='same', kernel_initializer='he_normal')(merge9)\n",
        "    conv9 = Conv2D(64, 3, activation='relu', padding='same', kernel_initializer='he_normal')(conv9)\n",
        "\n",
        "    conv10 = Conv2D(1, 1, activation='sigmoid', padding='same', kernel_initializer='he_normal')(conv9)\n",
        "\n",
        "    model = Model(inputs = model_weights.inputs, outputs = conv10)\n",
        "    model.compile(optimizer = Adam(lr = 1e-4), loss='dice', metrics=[dice_coeff])\n",
        "    return model"
      ],
      "execution_count": 0,
      "outputs": []
    },
    {
      "cell_type": "markdown",
      "metadata": {
        "id": "SF5sZvUqhITN",
        "colab_type": "text"
      },
      "source": [
        "Magician's Corner code (copied and pasted)"
      ]
    },
    {
      "cell_type": "code",
      "metadata": {
        "id": "plqp5qY6hHbb",
        "colab_type": "code",
        "colab": {}
      },
      "source": [
        "import numpy as np\n",
        "import numpy.ma as ma\n",
        "import os\n",
        "import shutil\n",
        "import tensorflow as tf\n",
        "from keras.models import Model, load_model\n",
        "from keras.layers import Input, Conv2D, MaxPooling2D, UpSampling2D, concatenate, Conv2DTranspose, Dense, Dropout, Activation, Flatten, BatchNormalization, Reshape\n",
        "from keras.engine.topology import Layer\n",
        "\n",
        "from keras.layers.merge import concatenate, add\n",
        "from keras.layers.core import Lambda\n",
        "from keras.optimizers import Adam\n",
        "from keras.callbacks import ModelCheckpoint, LearningRateScheduler, EarlyStopping, ReduceLROnPlateau\n",
        "from keras import backend as K\n",
        "from keras.utils.generic_utils import get_custom_objects\n",
        "from sklearn.model_selection import train_test_split\n",
        "import matplotlib.pyplot as plt\n",
        "import imageio\n",
        "from natsort import natsorted\n",
        "import random\n",
        "import warnings\n",
        "warnings.filterwarnings(\"ignore\")\n",
        "\n",
        "def dice_coeff(y_true, y_pred):\n",
        "    # add epsilon to avoid a divide by 0 error in case a slice has no pixels set\n",
        "    # we only care about relative value, not absolute so this alteration doesn't matter\n",
        "    _epsilon = 10 ** -7\n",
        "    intersections = tf.reduce_sum(y_true * y_pred)\n",
        "    unions = tf.reduce_sum(y_true + y_pred)\n",
        "    dice_scores = (2.0 * intersections + _epsilon) / (unions + _epsilon)\n",
        "    return dice_scores\n",
        "\n",
        "def dice_loss(y_true, y_pred):\n",
        "    loss = 1 - dice_coeff(y_true, y_pred)\n",
        "    return loss\n",
        "  \n",
        "get_custom_objects().update({\"dice\": dice_loss})\n",
        "\n",
        "class LayerNormalization (Layer) :\n",
        "    \n",
        "    def call(self, x, mask=None, training=None) :\n",
        "        axis = list (range (1, len (x.shape)))\n",
        "        x /= K.std (x, axis = axis, keepdims = True) + K.epsilon()\n",
        "        x -= K.mean (x, axis = axis, keepdims = True)\n",
        "        return x\n",
        "        \n",
        "    def compute_output_shape(self, input_shape):\n",
        "        return input_shape\n",
        "\n",
        "def build_model(act_fn = 'relu', init_fn = 'he_normal', width=256, height = 256, channels = 1): \n",
        "    inputs = Input((width,height,channels))\n",
        "\n",
        "    # note we use linear function before layer normalization\n",
        "    conv1 = Conv2D(8, 5, activation = 'linear', padding = 'same', kernel_initializer = init_fn)(inputs)\n",
        "    conv1 = LayerNormalization()(conv1)\n",
        "    pool1 = MaxPooling2D(pool_size=(2, 2))(conv1)\n",
        "    conv2 = Conv2D(16, 3, activation = act_fn, padding = 'same', kernel_initializer = init_fn)(pool1)\n",
        "    pool2 = MaxPooling2D(pool_size=(2, 2))(conv2)\n",
        "    conv3 = Conv2D(32, 3, activation = 'linear', padding = 'same', kernel_initializer = init_fn)(pool2)\n",
        "    conv3 = LayerNormalization()(conv3)\n",
        "    pool3 = MaxPooling2D(pool_size=(2, 2))(conv3)\n",
        "    conv4 = Conv2D(64, 3, activation = act_fn, padding = 'same', kernel_initializer = init_fn)(pool3)\n",
        "    pool4 = MaxPooling2D(pool_size=(2, 2))(conv4)\n",
        "\n",
        "    conv5 = Conv2D(72, 3, activation = act_fn, padding = 'same', kernel_initializer = init_fn)(pool4)\n",
        "\n",
        "    up6 = Conv2D(64, 2, activation = 'linear', padding = 'same', kernel_initializer = init_fn)(UpSampling2D(size = (2,2))(conv5))\n",
        "    up6 = LayerNormalization()(up6)\n",
        "    merge6 = concatenate([conv4,up6], axis = 3)\n",
        "    conv6 = Conv2D(64, 3, activation = act_fn, padding = 'same', kernel_initializer = init_fn)(merge6)\n",
        "\n",
        "    up7 = Conv2D(32, 2, activation = act_fn, padding = 'same', kernel_initializer = init_fn)(UpSampling2D(size = (2,2))(conv6))\n",
        "    merge7 = concatenate([conv3,up7], axis = 3)\n",
        "    conv7 = Conv2D(32, 3, activation = act_fn, padding = 'same', kernel_initializer = init_fn)(merge7)\n",
        "\n",
        "    up8 = Conv2D(16, 2, activation = 'linear', padding = 'same', kernel_initializer = init_fn)(UpSampling2D(size = (2,2))(conv7))\n",
        "    up8 = LayerNormalization()(up8)\n",
        "    merge8 = concatenate([conv2,up8], axis = 3)\n",
        "    conv8 = Conv2D(16, 3, activation = act_fn, padding = 'same', kernel_initializer = init_fn)(merge8)\n",
        "\n",
        "    up9 = Conv2D(8, 2, activation = act_fn, padding = 'same', kernel_initializer = init_fn)(UpSampling2D(size = (2,2))(conv8))\n",
        "    merge9 = concatenate([conv1,up9], axis = 3)\n",
        "    conv9 = Conv2D(8, 3, activation = act_fn, padding = 'same', kernel_initializer = init_fn)(merge9)\n",
        "    conv10 = Conv2D(1, 1, activation = 'sigmoid')(conv9)\n",
        "    model = Model(inputs = inputs, outputs = conv10)\n",
        "\n",
        "    model.compile(optimizer = Adam(lr = 1e-4), loss = 'dice', metrics=[dice_coeff])\n",
        "    return model"
      ],
      "execution_count": 0,
      "outputs": []
    },
    {
      "cell_type": "markdown",
      "metadata": {
        "id": "e3AUX8oV1pIq",
        "colab_type": "text"
      },
      "source": [
        "Display the training data after data augmentation"
      ]
    },
    {
      "cell_type": "code",
      "metadata": {
        "id": "YcYJ3ifloFHh",
        "colab_type": "code",
        "outputId": "8e6b9d43-d3d3-4190-c307-39e03f0acf87",
        "colab": {
          "base_uri": "https://localhost:8080/",
          "height": 179
        }
      },
      "source": [
        "import matplotlib.pyplot as plt\n",
        "import numpy.ma as ma\n",
        "\n",
        "fig=plt.figure(figsize=(130, 130), dpi = 75)\n",
        "\n",
        "#i=0\n",
        "while np.sum(Y_train_seg_f[i,:,:,0]) < 200:\n",
        "    i = i+1\n",
        "\n",
        "X = X_train_seg_f[i,:,:,0]\n",
        "Y = Y_train_seg_f[i,:,:,0]\n",
        "print(np.unique(Y))\n",
        "\n",
        "mask = ma.masked_where(Y != 1.0, Y)\n",
        "    \n",
        "fig.add_subplot(3, 3, 1)\n",
        "plt.imshow(X, cmap = \"gray\")\n",
        "plt.title(\"Image\")\n",
        "plt.axis('off')\n",
        "\n",
        "fig.add_subplot(3, 3, 2)\n",
        "plt.imshow(X, cmap = \"gray\")\n",
        "plt.imshow(mask, 'cool', alpha=0.7)\n",
        "plt.title(\"Image with mask\")\n",
        "plt.axis('off')\n",
        "\n",
        "fig.add_subplot(3, 3, 3)\n",
        "plt.imshow(Y, 'cool', alpha=0.7)\n",
        "plt.title(\"Mask\")\n",
        "plt.axis('off')\n",
        "    \n",
        "plt.subplots_adjust(bottom=0.1, left = 0.01, right=0.05, top=0.3)\n",
        "plt.show()\n",
        "i=i+20"
      ],
      "execution_count": 0,
      "outputs": [
        {
          "output_type": "stream",
          "text": [
            "[0. 1.]\n"
          ],
          "name": "stdout"
        },
        {
          "output_type": "display_data",
          "data": {
            "image/png": "[encoded data removed]",
            "text/plain": [
              "<Figure size 9750x9750 with 3 Axes>"
            ]
          },
          "metadata": {
            "tags": [],
            "needs_background": "light"
          }
        }
      ]
    },
    {
      "cell_type": "markdown",
      "metadata": {
        "id": "qgAYwX33A3nz",
        "colab_type": "text"
      },
      "source": [
        "Train the particular model we are testing"
      ]
    },
    {
      "cell_type": "code",
      "metadata": {
        "id": "TXZugxO8zwFR",
        "colab_type": "code",
        "outputId": "e629a772-cb44-4be1-9f27-5c8db3816453",
        "colab": {
          "base_uri": "https://localhost:8080/",
          "height": 797
        }
      },
      "source": [
        "import segmentation_models as sm\n",
        "\n",
        "num_epochs = 35\n",
        "\n",
        "batch_size = 64\n",
        "\n",
        "BACKBONE = 'resnet50'\n",
        "\n",
        "base_model = sm.Unet(BACKBONE, encoder_weights='imagenet', classes=1, activation='sigmoid')\n",
        "inp = Input(shape=(256, 256, 1))\n",
        "l1 = Conv2D(3, (1, 1)) (inp)\n",
        "out = base_model(l1)\n",
        "model = Model(inp, out, name = base_model.name)\n",
        "checkpointer = ModelCheckpoint('model_resnet50_brightness.h5', verbose=1, save_best_only=True)\n",
        "model.compile(optimizer = Adam(lr = 1e-4), loss=dice_loss, metrics=[dice_coeff])\n",
        "steps_per_epoch = np.ceil(num_train_samples/64.0)\n",
        "batch_size = 16\n",
        "results = model.fit(X_train_seg_f, Y_train_seg_f, validation_data = (X_valid_seg, Y_valid_seg), batch_size=batch_size, epochs = num_epochs, callbacks=[checkpointer])"
      ],
      "execution_count": 0,
      "outputs": [
        {
          "output_type": "stream",
          "text": [
            "Downloading data from https://github.com/qubvel/classification_models/releases/download/0.0.1/resnet50_imagenet_1000_no_top.h5\n",
            "94593024/94592056 [==============================] - 7s 0us/step\n",
            "Train on 3530 samples, validate on 1080 samples\n",
            "Epoch 1/35\n",
            "3530/3530 [==============================] - 327s 93ms/step - loss: 0.9706 - dice_coeff: 0.0295 - val_loss: 0.9966 - val_dice_coeff: 0.0034\n",
            "\n",
            "Epoch 00001: val_loss improved from inf to 0.99659, saving model to model_resnet50_brightness.h5\n",
            "Epoch 2/35\n",
            "3530/3530 [==============================] - 304s 86ms/step - loss: 0.8470 - dice_coeff: 0.1534 - val_loss: 0.9985 - val_dice_coeff: 0.0015\n",
            "\n",
            "Epoch 00002: val_loss did not improve from 0.99659\n",
            "Epoch 3/35\n",
            "3530/3530 [==============================] - 304s 86ms/step - loss: 0.5899 - dice_coeff: 0.4094 - val_loss: 0.9997 - val_dice_coeff: 3.0609e-04\n",
            "\n",
            "Epoch 00003: val_loss did not improve from 0.99659\n",
            "Epoch 4/35\n",
            "3530/3530 [==============================] - 303s 86ms/step - loss: 0.4146 - dice_coeff: 0.5852 - val_loss: 0.9958 - val_dice_coeff: 0.0041\n",
            "\n",
            "Epoch 00004: val_loss improved from 0.99659 to 0.99583, saving model to model_resnet50_brightness.h5\n",
            "Epoch 5/35\n",
            "3530/3530 [==============================] - 305s 86ms/step - loss: 0.3773 - dice_coeff: 0.6231 - val_loss: 0.9751 - val_dice_coeff: 0.0247\n",
            "\n",
            "Epoch 00005: val_loss improved from 0.99583 to 0.97509, saving model to model_resnet50_brightness.h5\n",
            "Epoch 6/35\n",
            "3530/3530 [==============================] - 305s 86ms/step - loss: 0.4000 - dice_coeff: 0.6005 - val_loss: 0.9179 - val_dice_coeff: 0.0815\n",
            "\n",
            "Epoch 00006: val_loss improved from 0.97509 to 0.91786, saving model to model_resnet50_brightness.h5\n",
            "Epoch 7/35\n",
            "3530/3530 [==============================] - 305s 86ms/step - loss: 0.3387 - dice_coeff: 0.6613 - val_loss: 0.8515 - val_dice_coeff: 0.1474\n",
            "\n",
            "Epoch 00007: val_loss improved from 0.91786 to 0.85148, saving model to model_resnet50_brightness.h5\n",
            "Epoch 8/35\n",
            "3530/3530 [==============================] - 305s 86ms/step - loss: 0.2861 - dice_coeff: 0.7140 - val_loss: 0.8708 - val_dice_coeff: 0.1282\n",
            "\n",
            "Epoch 00008: val_loss did not improve from 0.85148\n",
            "Epoch 9/35\n",
            "3530/3530 [==============================] - 306s 87ms/step - loss: 0.2842 - dice_coeff: 0.7159 - val_loss: 0.8552 - val_dice_coeff: 0.1438\n",
            "\n",
            "Epoch 00009: val_loss did not improve from 0.85148\n",
            "Epoch 10/35\n",
            "3530/3530 [==============================] - 304s 86ms/step - loss: 0.2762 - dice_coeff: 0.7236 - val_loss: 0.8514 - val_dice_coeff: 0.1475\n",
            "\n",
            "Epoch 00010: val_loss improved from 0.85148 to 0.85141, saving model to model_resnet50_brightness.h5\n",
            "Epoch 11/35\n",
            " 352/3530 [=>............................] - ETA: 4:13 - loss: 0.2848 - dice_coeff: 0.7152"
          ],
          "name": "stdout"
        }
      ]
    },
    {
      "cell_type": "markdown",
      "metadata": {
        "id": "SdQOoUim13tv",
        "colab_type": "text"
      },
      "source": [
        "Test the particular model we are testing, by calculating the dice score from the predicted masks, and displaying several examples containing predicted masks and corresponding ground truth masks"
      ]
    },
    {
      "cell_type": "code",
      "metadata": {
        "id": "PA-k0M34hSQE",
        "colab_type": "code",
        "outputId": "c0c165cd-1df2-407d-b3e8-92ed036c58fc",
        "colab": {
          "base_uri": "https://localhost:8080/",
          "height": 1000
        }
      },
      "source": [
        "model.load_weights('./model_vgg16_brightness.h5')\n",
        "preds_test = model.predict(X_test_seg, verbose=1)\n",
        "preds_test = (preds_test > 0.5).astype(np.uint8)\n",
        "\n",
        "def np_dice(true, pred):\n",
        "    intersection = np.sum(true * pred)\n",
        "    dc =(2.0 * intersection) / (np.sum(true) + np.sum(pred))\n",
        "    return dc\n",
        "\n",
        "fig=plt.figure(figsize=(130, 130), dpi = 75)\n",
        "\n",
        "i=0\n",
        "for j in range(0,8,2):\n",
        "    while np.sum(Y_test_seg[i,:,:,0]) < 50:\n",
        "        i = i+1\n",
        "        print()\n",
        "    image = X_test_seg[i,...,0]\n",
        "    mask =  Y_test_seg[i,...,0]\n",
        "    mask = ma.masked_where(mask == 0, mask)\n",
        "    pred = preds_test[i,...,0]\n",
        "    pred = ma.masked_where(pred == 0, pred)\n",
        "    \n",
        "    fig.add_subplot(8, 2, j+1)\n",
        "    plt.imshow(image, cmap = \"gray\")\n",
        "    plt.imshow(mask, 'cool', alpha=0.7)\n",
        "    plt.title(\"Ground Truth\")\n",
        "    plt.axis('off')\n",
        "    \n",
        "    fig.add_subplot(8, 2, j+2)\n",
        "    plt.imshow(image, cmap = \"gray\")\n",
        "    plt.imshow(pred, 'cool', alpha=0.7)\n",
        "    plt.title(\"Prediction\")\n",
        "    plt.axis('off')\n",
        "    i = i+20\n",
        "    \n",
        "plt.subplots_adjust(bottom=0.1, left = 0.01, right=0.05, top=0.3)\n",
        "plt.show()\n",
        "\n",
        "print(\"The dice score for this model is: \", np_dice(Y_test_seg, preds_test))"
      ],
      "execution_count": 24,
      "outputs": [
        {
          "output_type": "stream",
          "text": [
            "1080/1080 [==============================] - 19s 18ms/step\n",
            "\n",
            "\n",
            "\n",
            "\n",
            "\n",
            "\n",
            "\n",
            "\n",
            "\n",
            "\n",
            "\n",
            "\n",
            "\n",
            "\n",
            "\n",
            "\n",
            "\n",
            "\n",
            "\n",
            "\n",
            "\n",
            "\n",
            "\n",
            "\n",
            "\n",
            "\n",
            "\n",
            "\n",
            "\n",
            "\n",
            "\n",
            "\n",
            "\n",
            "\n",
            "\n",
            "\n",
            "\n",
            "\n",
            "\n",
            "\n",
            "\n",
            "\n",
            "\n",
            "\n",
            "\n",
            "\n",
            "\n",
            "\n",
            "\n",
            "\n",
            "\n",
            "\n",
            "\n",
            "\n",
            "\n",
            "\n",
            "\n",
            "\n",
            "\n",
            "\n",
            "\n",
            "\n",
            "\n",
            "\n",
            "\n",
            "\n",
            "\n",
            "\n",
            "\n",
            "\n",
            "\n",
            "\n",
            "\n",
            "\n",
            "\n",
            "\n",
            "\n",
            "\n",
            "\n",
            "\n",
            "\n",
            "\n",
            "\n",
            "\n",
            "\n",
            "\n",
            "\n",
            "\n",
            "\n",
            "\n",
            "\n",
            "\n",
            "\n",
            "\n",
            "\n",
            "\n",
            "\n",
            "\n",
            "\n",
            "\n",
            "\n",
            "\n",
            "\n",
            "\n",
            "\n",
            "\n",
            "\n",
            "\n",
            "\n",
            "\n",
            "\n",
            "\n",
            "\n",
            "\n",
            "\n",
            "\n",
            "\n",
            "\n",
            "\n",
            "\n",
            "\n",
            "\n",
            "\n",
            "\n",
            "\n",
            "\n",
            "\n",
            "\n",
            "\n",
            "\n",
            "\n",
            "\n",
            "\n",
            "\n",
            "\n",
            "\n",
            "\n",
            "\n",
            "\n",
            "\n",
            "\n",
            "\n",
            "\n",
            "\n",
            "\n",
            "\n",
            "\n",
            "\n",
            "\n",
            "\n",
            "\n",
            "\n",
            "\n",
            "\n",
            "\n",
            "\n",
            "\n",
            "\n",
            "\n",
            "\n",
            "\n",
            "\n",
            "\n",
            "\n",
            "\n",
            "\n",
            "\n",
            "\n",
            "\n",
            "\n",
            "\n",
            "\n",
            "\n",
            "\n",
            "\n",
            "\n",
            "\n",
            "\n",
            "\n",
            "\n",
            "\n",
            "\n",
            "\n",
            "\n",
            "\n",
            "\n",
            "\n",
            "\n",
            "\n",
            "\n",
            "\n",
            "\n",
            "\n",
            "\n",
            "\n",
            "\n",
            "\n",
            "\n",
            "\n",
            "\n",
            "\n",
            "\n",
            "\n",
            "\n",
            "\n",
            "\n",
            "\n",
            "\n",
            "\n",
            "\n",
            "\n",
            "\n",
            "\n",
            "\n",
            "\n",
            "\n",
            "\n",
            "\n",
            "\n",
            "\n",
            "\n",
            "\n",
            "\n",
            "\n",
            "\n",
            "\n",
            "\n",
            "\n",
            "\n",
            "\n",
            "\n",
            "\n",
            "\n",
            "\n",
            "\n",
            "\n",
            "\n",
            "\n",
            "\n",
            "\n",
            "\n",
            "\n",
            "\n",
            "\n",
            "\n",
            "\n",
            "\n",
            "\n",
            "\n",
            "\n",
            "\n",
            "\n",
            "\n",
            "\n",
            "\n",
            "\n",
            "\n",
            "\n",
            "\n",
            "\n",
            "\n",
            "\n",
            "\n",
            "\n",
            "\n",
            "\n",
            "\n",
            "\n",
            "\n",
            "\n",
            "\n",
            "\n",
            "\n",
            "\n",
            "\n",
            "\n",
            "\n",
            "\n"
          ],
          "name": "stdout"
        },
        {
          "output_type": "display_data",
          "data": {
            "image/png": "[encoded data removed]",
            "text/plain": [
              "<Figure size 9750x9750 with 8 Axes>"
            ]
          },
          "metadata": {
            "tags": [],
            "needs_background": "light"
          }
        },
        {
          "output_type": "stream",
          "text": [
            "The dice score for this model is:  0.785336856010568\n"
          ],
          "name": "stdout"
        }
      ]
    },
    {
      "cell_type": "markdown",
      "metadata": {
        "id": "zZNVdUUi29Ej",
        "colab_type": "text"
      },
      "source": [
        "Run this to reset variables when debugging"
      ]
    },
    {
      "cell_type": "code",
      "metadata": {
        "id": "dIoB_-R225zU",
        "colab_type": "code",
        "outputId": "d8826c33-d6c3-4b85-a9f6-6494a98eafb4",
        "colab": {
          "base_uri": "https://localhost:8080/",
          "height": 35
        }
      },
      "source": [
        "%reset"
      ],
      "execution_count": 0,
      "outputs": [
        {
          "output_type": "stream",
          "text": [
            "Once deleted, variables cannot be recovered. Proceed (y/[n])? y\n"
          ],
          "name": "stdout"
        }
      ]
    }
  ]
}