{
  "nbformat_minor": 1, 
  "nbformat": 4, 
  "cells": [
    {
      "source": [
        "import numpy as np\r\n", 
        "import glob\r\n", 
        "import os\r\n", 
        "import keras\r\n", 
        "from keras.models import Sequential\r\n", 
        "from keras.layers import Dense, Dropout, Flatten\r\n", 
        "from keras.layers import Conv2D, MaxPooling2D\r\n", 
        "from keras.optimizers import SGD\r\n", 
        "import data_generators as dg\r\n", 
        "import classifiers as cl\r\n", 
        "from PIL import image\r\n", 
        "\r\n", 
        "# run from DeepResection directory\r\n", 
        "current_dir = os.getcwd()\r\n", 
        "\r\n", 
        "data_generator = dg.DataGenerator(current_dir)\r\n", 
        "\r\n", 
        "model_detect_resection = cl.generate_classification_model()\r\n", 
        "\r\n", 
        "num_epochs = 10\r\n", 
        "\r\n", 
        "batch_size = 32\r\n", 
        "\r\n", 
        "X_train, Y_train = dg.getTrainDataForClassification()\r\n", 
        "X_test, Y_test = dg.getTestDataForClassification()\r\n", 
        "\r\n", 
        "model_detect_resection.fit(X_train, Y_train, batch_size=batch_size, epochs=num_epochs)\r\n", 
        "score=model_detect_resection.evaluate(X_test, Y_test, batch_size=batch_size)\r\n", 
        "\r\n", 
        "print('metrics: ')\r\n", 
        "print(model_detect_resection.metrics_names)\r\n", 
        "print('scores:')\r\n", 
        "print(score)"
      ], 
      "cell_type": "code", 
      "execution_count": null, 
      "outputs": [], 
      "metadata": {}
    }
  ], 
  "metadata": {
    "kernelspec": {
      "display_name": "Python 3", 
      "name": "python3", 
      "language": "python"
    }, 
    "language_info": {
      "mimetype": "text/x-python", 
      "nbconvert_exporter": "python", 
      "name": "python", 
      "file_extension": ".py", 
      "version": "3.6.1", 
      "pygments_lexer": "ipython3", 
      "codemirror_mode": {
        "version": 3, 
        "name": "ipython"
      }
    }, 
    "anaconda-cloud": {}
  }
}