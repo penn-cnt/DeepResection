{
  "nbformat_minor": 1, 
  "nbformat": 4, 
  "cells": [
    {
      "source": [
        "import numpy as np\r\n", 
        "import glob\r\n", 
        "import os\r\n", 
        "import keras\r\n", 
        "from keras.models import Sequential\r\n", 
        "from keras.layers import Dense, Dropout, Flatten\r\n", 
        "from keras.layers import Conv2D, MaxPooling2D\r\n", 
        "from keras.optimizers import Adam\r\n", 
        "from keras.applications.densenet import DenseNet121\r\n", 
        "from PIL import image\r\n", 
        "\r\n", 
        "def generate_classification_model(dim=(192, 192)):\r\n", 
        "    #model = Sequential()\r\n", 
        "    #model.add(Conv2D(32, (3, 3), activation='relu', input_shape=(dim[0], dim[1], 1)))\r\n", 
        "    #model.add(Conv2D(32, (3, 3), activation='relu', input_shape=(dim[0], dim[1], 1)))\r\n", 
        "    #model.add(MaxPooling2D(poolsize=(2,2)))\r\n", 
        "    #model.add(Dropout=0.25)\r\n", 
        "\r\n", 
        "    #model.add(Conv2D(64, (3, 3), activation='relu', input_shape=(dim[0], dim[1], 1)))\r\n", 
        "    #model.add(Conv2D(64, (3, 3), activation='relu', input_shape=(dim[0], dim[1], 1)))\r\n", 
        "    #model.add(MaxPooling2D(poolsize=(2,2)))\r\n", 
        "    #model.add(Dropout=0.25)\r\n", 
        "\r\n", 
        "    #model.add(Conv2D(64, (3, 3), activation='relu', input_shape=(dim[0], dim[1], 1)))\r\n", 
        "    #model.add(Conv2D(64, (3, 3), activation='relu', input_shape=(dim[0], dim[1], 1)))\r\n", 
        "    #model.add(MaxPooling2D(poolsize=(2,2)))\r\n", 
        "    #model.add(Dropout=0.25)\r\n", 
        "\r\n", 
        "    #model.add(Flatten())\r\n", 
        "    #model.add(Dense(256, activation='relu'))\r\n", 
        "    #model.add(Dropout=0.25)\r\n", 
        "    #model.add(Dense(2, activation='softmax'))\r\n", 
        "\r\n", 
        "    # use pre-trained weights on ImageNet\r\n", 
        "    model = DenseNet121(include_top=False, weights='imagenet', input_shape=(192,192, 3), pooling=max, classes=2)  \r\n", 
        "\r\n", 
        "    #sgd = SGD(lr=0.01, decay=1e-6, momentum=0.9, nesterov=True)\r\n", 
        "    adm = Adam(learning_rate=0.001, beta_1=0.9, beta_2=0.999, amsgrad=False)\r\n", 
        "    model.compile(loss='categorical_crossentropy', optimizer=adm, metrics=['accuracy'])\r\n", 
        "    return model\r\n"
      ], 
      "cell_type": "code", 
      "execution_count": null, 
      "outputs": [], 
      "metadata": {}
    }
  ], 
  "metadata": {
    "kernelspec": {
      "display_name": "Python 3", 
      "name": "python3", 
      "language": "python"
    }, 
    "language_info": {
      "mimetype": "text/x-python", 
      "nbconvert_exporter": "python", 
      "name": "python", 
      "file_extension": ".py", 
      "version": "3.6.1", 
      "pygments_lexer": "ipython3", 
      "codemirror_mode": {
        "version": 3, 
        "name": "ipython"
      }
    }, 
    "anaconda-cloud": {}
  }
}